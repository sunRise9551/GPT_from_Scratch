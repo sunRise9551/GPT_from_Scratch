{
  "nbformat": 4,
  "nbformat_minor": 0,
  "metadata": {
    "colab": {
      "provenance": [],
      "gpuType": "T4",
      "authorship_tag": "ABX9TyNUSn6Um/yn1j6RTqTRnO7z",
      "include_colab_link": true
    },
    "kernelspec": {
      "name": "python3",
      "display_name": "Python 3"
    },
    "language_info": {
      "name": "python"
    },
    "accelerator": "GPU"
  },
  "cells": [
    {
      "cell_type": "markdown",
      "metadata": {
        "id": "view-in-github",
        "colab_type": "text"
      },
      "source": [
        "<a href=\"https://colab.research.google.com/github/sunRise9551/GPT_from_Scratch/blob/main/GPT.ipynb\" target=\"_parent\"><img src=\"https://colab.research.google.com/assets/colab-badge.svg\" alt=\"Open In Colab\"/></a>"
      ]
    },
    {
      "cell_type": "code",
      "source": [
        "import torch\n",
        "import torch.nn as nn\n",
        "import torch.nn.functional as F"
      ],
      "metadata": {
        "id": "0SCNwfp0Tbit"
      },
      "execution_count": null,
      "outputs": []
    },
    {
      "cell_type": "code",
      "source": [
        "!wget https://raw.githubusercontent.com/karpathy/char-rnn/master/data/tinyshakespeare/input.txt"
      ],
      "metadata": {
        "colab": {
          "base_uri": "https://localhost:8080/"
        },
        "id": "fnfWG67dXAJR",
        "outputId": "5fb09677-1492-431e-e2a2-cac7ca42d6ef"
      },
      "execution_count": 1,
      "outputs": [
        {
          "output_type": "stream",
          "name": "stdout",
          "text": [
            "--2023-10-07 10:48:29--  https://raw.githubusercontent.com/karpathy/char-rnn/master/data/tinyshakespeare/input.txt\n",
            "Resolving raw.githubusercontent.com (raw.githubusercontent.com)... 185.199.111.133, 185.199.110.133, 185.199.109.133, ...\n",
            "Connecting to raw.githubusercontent.com (raw.githubusercontent.com)|185.199.111.133|:443... connected.\n",
            "HTTP request sent, awaiting response... 200 OK\n",
            "Length: 1115394 (1.1M) [text/plain]\n",
            "Saving to: ‘input.txt’\n",
            "\n",
            "\rinput.txt             0%[                    ]       0  --.-KB/s               \rinput.txt           100%[===================>]   1.06M  --.-KB/s    in 0.02s   \n",
            "\n",
            "2023-10-07 10:48:29 (46.6 MB/s) - ‘input.txt’ saved [1115394/1115394]\n",
            "\n"
          ]
        }
      ]
    },
    {
      "cell_type": "markdown",
      "source": [
        "The mathematical trick in self-attention"
      ],
      "metadata": {
        "id": "tr17WhQiS6ag"
      }
    },
    {
      "cell_type": "code",
      "execution_count": null,
      "metadata": {
        "colab": {
          "base_uri": "https://localhost:8080/"
        },
        "id": "FEQUXzOsS53a",
        "outputId": "6d2c4273-2294-4029-9cf6-a8b750432b8b"
      },
      "outputs": [
        {
          "output_type": "execute_result",
          "data": {
            "text/plain": [
              "torch.Size([4, 8, 2])"
            ]
          },
          "metadata": {},
          "execution_count": 34
        }
      ],
      "source": [
        "# consider the following toy example:\n",
        "\n",
        "torch.manual_seed(1337)\n",
        "B, T, C = 4, 8, 2 # batch, time, channels\n",
        "x = torch.randn(B, T, C)\n",
        "x.shape"
      ]
    },
    {
      "cell_type": "code",
      "source": [
        "# We want x[b,t] = mean_{i<=t} x[b,i]\n",
        "xbow = torch.zeros((B,T,C))\n",
        "for b in range(B):\n",
        "  for t in range(T):\n",
        "    xprev = x[b, :t+1]"
      ],
      "metadata": {
        "id": "GTZsBVA1TMtG"
      },
      "execution_count": null,
      "outputs": []
    },
    {
      "cell_type": "code",
      "source": [
        "B, T, C = 3, 4, 6\n",
        "x = torch.randn(B, T, C)\n",
        "xbow = torch.zeros((B,T,C))\n",
        "for b in range(B):\n",
        "  for t in range(T):\n",
        "    xprev = x[b, :t+1]\n",
        "\n",
        "print(\"X = \\n\", x)\n",
        "print(\"xprev = \\n\", xprev)"
      ],
      "metadata": {
        "colab": {
          "base_uri": "https://localhost:8080/"
        },
        "id": "kmFdRITQVP8v",
        "outputId": "9f9f4976-b54f-4300-87a0-28c9897f428b"
      },
      "execution_count": null,
      "outputs": [
        {
          "output_type": "stream",
          "name": "stdout",
          "text": [
            "X = \n",
            " tensor([[[-0.8345,  0.5978, -0.0514, -0.0646, -0.4970,  0.4658],\n",
            "         [-0.2573, -1.0673,  2.0089, -0.5370,  0.2228,  0.6971],\n",
            "         [-1.4267,  0.9059,  0.1446,  0.2280,  2.4900, -1.2237],\n",
            "         [ 1.0107,  0.5560, -1.5935, -1.2706,  0.6903, -0.1961]],\n",
            "\n",
            "        [[ 0.3449, -0.3419,  0.4759, -0.7663, -0.4190, -0.4370],\n",
            "         [-1.0012, -0.4094, -1.6669, -1.3651, -0.1655,  0.9623],\n",
            "         [ 0.0315, -0.7419, -0.2978,  0.0172, -0.1772, -0.1334],\n",
            "         [ 0.2940,  1.3850,  0.1209,  2.5418, -0.6405, -1.9740]],\n",
            "\n",
            "        [[-0.3296,  0.0080,  0.9262, -1.8846,  0.1670,  0.4586],\n",
            "         [-1.7662,  0.5860,  1.1346, -0.0824,  0.2893,  0.8358],\n",
            "         [-0.2450,  0.2712,  0.0936, -0.8834, -0.3274,  0.0784],\n",
            "         [-0.3808,  0.3775,  0.1119,  2.3143, -0.7989, -0.5643]]])\n",
            "xprev = \n",
            " tensor([[-0.3296,  0.0080,  0.9262, -1.8846,  0.1670,  0.4586],\n",
            "        [-1.7662,  0.5860,  1.1346, -0.0824,  0.2893,  0.8358],\n",
            "        [-0.2450,  0.2712,  0.0936, -0.8834, -0.3274,  0.0784],\n",
            "        [-0.3808,  0.3775,  0.1119,  2.3143, -0.7989, -0.5643]])\n"
          ]
        }
      ]
    },
    {
      "cell_type": "markdown",
      "source": [
        "If let's say we have an 'x' with (B,T,C) of (3,4,6)\n",
        "- We have 3 batches\n",
        "- Each batches have 4 sequences\n",
        "- Each sequences have 6 channels"
      ],
      "metadata": {
        "id": "Yxvsy64JyoWF"
      }
    },
    {
      "cell_type": "code",
      "source": [
        "B, T, C = 3, 4, 6\n",
        "x = torch.randint(0, 10, (B, T, C))\n",
        "x"
      ],
      "metadata": {
        "colab": {
          "base_uri": "https://localhost:8080/"
        },
        "id": "SaiXH_pGytxk",
        "outputId": "9c73bcc9-3d63-497b-a212-5116a7f5b56f"
      },
      "execution_count": null,
      "outputs": [
        {
          "output_type": "execute_result",
          "data": {
            "text/plain": [
              "tensor([[[3, 2, 3, 6, 1, 5],\n",
              "         [4, 9, 5, 0, 4, 5],\n",
              "         [4, 9, 5, 3, 5, 6],\n",
              "         [1, 4, 4, 3, 6, 9]],\n",
              "\n",
              "        [[8, 5, 1, 8, 4, 0],\n",
              "         [9, 4, 7, 6, 1, 5],\n",
              "         [0, 0, 4, 6, 3, 3],\n",
              "         [3, 8, 6, 2, 5, 9]],\n",
              "\n",
              "        [[0, 7, 7, 1, 2, 9],\n",
              "         [8, 4, 3, 3, 1, 8],\n",
              "         [5, 1, 5, 4, 7, 5],\n",
              "         [1, 8, 4, 2, 0, 4]]])"
            ]
          },
          "metadata": {},
          "execution_count": 37
        }
      ]
    },
    {
      "cell_type": "markdown",
      "source": [
        "Objective:\n",
        "- We want our current input token are able to consider itself as well as previous tokens\n",
        "- For example, taking 1st batch, 3rd sequence. (Index 1, 2)"
      ],
      "metadata": {
        "id": "Xuz9AGO9zvOV"
      }
    },
    {
      "cell_type": "code",
      "source": [
        "x[0,2]"
      ],
      "metadata": {
        "colab": {
          "base_uri": "https://localhost:8080/"
        },
        "id": "twLBB9Gdzwcy",
        "outputId": "a48cafe9-7734-4631-faee-9e8afa50572a"
      },
      "execution_count": null,
      "outputs": [
        {
          "output_type": "execute_result",
          "data": {
            "text/plain": [
              "tensor([4, 9, 5, 3, 5, 6])"
            ]
          },
          "metadata": {},
          "execution_count": 38
        }
      ]
    },
    {
      "cell_type": "markdown",
      "source": [
        "- We want this current token of sequence, not only consider himself but all previous tokens.\n",
        "- Which are:"
      ],
      "metadata": {
        "id": "2wedRaGuz2tp"
      }
    },
    {
      "cell_type": "code",
      "source": [
        "print(x[0,0])\n",
        "print(x[0,1])\n",
        "print(x[0,2]) # t, C"
      ],
      "metadata": {
        "colab": {
          "base_uri": "https://localhost:8080/"
        },
        "id": "yA78uGa40DKP",
        "outputId": "51858134-249e-498a-dfe4-498448f75019"
      },
      "execution_count": null,
      "outputs": [
        {
          "output_type": "stream",
          "name": "stdout",
          "text": [
            "tensor([3, 2, 3, 6, 1, 5])\n",
            "tensor([4, 9, 5, 0, 4, 5])\n",
            "tensor([4, 9, 5, 3, 5, 6])\n"
          ]
        }
      ]
    },
    {
      "cell_type": "markdown",
      "source": [
        "# Solution"
      ],
      "metadata": {
        "id": "CF86V8fMdj1w"
      }
    },
    {
      "cell_type": "markdown",
      "source": [
        "## Simple Solution"
      ],
      "metadata": {
        "id": "NEPjyJNv0XZZ"
      }
    },
    {
      "cell_type": "markdown",
      "source": [
        "- 1. Create `xprev` to store tracked/considered tokens\n",
        "- 2. Create `xbow` zeros matrix to store calculated means\n",
        "- 3. Calculate the mean of `xprev` on `t` dimension\n",
        "- 4. Store calculated means to `xbow` according to current loop of `b` and `t`"
      ],
      "metadata": {
        "id": "HDv4l5yh0pLD"
      }
    },
    {
      "cell_type": "markdown",
      "source": [
        "Nested Loop\n",
        "- looping the Batch, B\n",
        "- looping the Timestamps, T"
      ],
      "metadata": {
        "id": "X-BAg_Kc0aKz"
      }
    },
    {
      "cell_type": "code",
      "source": [
        "B, T, C = 4, 8, 2\n",
        "x = torch.rand(B, T, C)\n",
        "xbow = torch.zeros(B,T,C)\n",
        "for b in range(B):\n",
        "  for t in range(T):\n",
        "    xprev = x[b,:t+1] # (t,C)\n",
        "    xbow[b,t] = torch.mean(xprev, 0)\n",
        "\n",
        "print(x[0])\n",
        "print(\"\")\n",
        "print(xbow[0])"
      ],
      "metadata": {
        "colab": {
          "base_uri": "https://localhost:8080/"
        },
        "id": "eZx7cdlv0W1L",
        "outputId": "04572993-5e8c-4e5a-cfeb-9723298eee2a"
      },
      "execution_count": null,
      "outputs": [
        {
          "output_type": "stream",
          "name": "stdout",
          "text": [
            "tensor([[0.3970, 0.6915],\n",
            "        [0.1728, 0.8323],\n",
            "        [0.3802, 0.2879],\n",
            "        [0.0983, 0.1698],\n",
            "        [0.3482, 0.7270],\n",
            "        [0.2465, 0.7241],\n",
            "        [0.7451, 0.0122],\n",
            "        [0.7501, 0.6190]])\n",
            "\n",
            "tensor([[0.3970, 0.6915],\n",
            "        [0.2849, 0.7619],\n",
            "        [0.3167, 0.6039],\n",
            "        [0.2621, 0.4954],\n",
            "        [0.2793, 0.5417],\n",
            "        [0.2738, 0.5721],\n",
            "        [0.3412, 0.4921],\n",
            "        [0.3923, 0.5080]])\n"
          ]
        }
      ]
    },
    {
      "cell_type": "markdown",
      "source": [
        "## Optimizing ver1.0"
      ],
      "metadata": {
        "id": "Wqc9JFoEGv04"
      }
    },
    {
      "cell_type": "markdown",
      "source": [
        "- Using for loop is very unefficient.\n",
        "- Matrix Multiplication can simplfy this."
      ],
      "metadata": {
        "id": "tTlEZFqNGzDq"
      }
    },
    {
      "cell_type": "markdown",
      "source": [
        "Lower Triangular Matrix"
      ],
      "metadata": {
        "id": "3w2qPVcJVPyr"
      }
    },
    {
      "cell_type": "markdown",
      "source": [
        "![image.png](data:image/png;base64,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)"
      ],
      "metadata": {
        "id": "Hvc1Z462YAtW"
      }
    },
    {
      "cell_type": "markdown",
      "source": [
        "Triangular without calculating mean"
      ],
      "metadata": {
        "id": "8O7W-dDUcsNM"
      }
    },
    {
      "cell_type": "code",
      "source": [
        "torch.manual_seed(42)\n",
        "a = torch.tril(torch.ones(3, 3))\n",
        "a = torch.ones(3, 3)\n",
        "b = torch.randint(0, 10, (3, 2)).float()\n",
        "c = a @ b\n",
        "print(\"a = \")\n",
        "print(a)\n",
        "print(\"b = \")\n",
        "print(b)\n",
        "print(\"c = \")\n",
        "print(c)"
      ],
      "metadata": {
        "colab": {
          "base_uri": "https://localhost:8080/"
        },
        "id": "BsP2ftXrvRuk",
        "outputId": "e96dd27f-1a62-451e-86ba-50597bddf69a"
      },
      "execution_count": null,
      "outputs": [
        {
          "output_type": "stream",
          "name": "stdout",
          "text": [
            "a = \n",
            "tensor([[1., 1., 1.],\n",
            "        [1., 1., 1.],\n",
            "        [1., 1., 1.]])\n",
            "b = \n",
            "tensor([[2., 7.],\n",
            "        [6., 4.],\n",
            "        [6., 5.]])\n",
            "c = \n",
            "tensor([[14., 16.],\n",
            "        [14., 16.],\n",
            "        [14., 16.]])\n"
          ]
        }
      ]
    },
    {
      "cell_type": "markdown",
      "source": [
        "- Calculate the mean by calculating the mean of matrix `a`\n",
        "- Multiply with matrix `b`"
      ],
      "metadata": {
        "id": "osdWGYK4ZUvp"
      }
    },
    {
      "cell_type": "code",
      "source": [
        "a = torch.tril(torch.ones(3, 3))\n",
        "a = a / torch.sum(a, 1, keepdim=True)\n",
        "a"
      ],
      "metadata": {
        "colab": {
          "base_uri": "https://localhost:8080/"
        },
        "id": "XXBcxf6oaxCk",
        "outputId": "bbb05e60-c26f-4fad-8fe3-d5662f3df224"
      },
      "execution_count": null,
      "outputs": [
        {
          "output_type": "execute_result",
          "data": {
            "text/plain": [
              "tensor([[1.0000, 0.0000, 0.0000],\n",
              "        [0.5000, 0.5000, 0.0000],\n",
              "        [0.3333, 0.3333, 0.3333]])"
            ]
          },
          "metadata": {},
          "execution_count": 42
        }
      ]
    },
    {
      "cell_type": "code",
      "source": [
        "torch.manual_seed(42)\n",
        "a = a / torch.sum(a, 1, keepdim=True)\n",
        "b = torch.randint(0, 10, (3, 2)).float()\n",
        "c = a @ b\n",
        "print(\"a = \")\n",
        "print(a)\n",
        "print(\"b = \")\n",
        "print(b)\n",
        "print(\"c = \")\n",
        "print(c)"
      ],
      "metadata": {
        "colab": {
          "base_uri": "https://localhost:8080/"
        },
        "id": "628Du5QAZUUJ",
        "outputId": "14785041-e89f-460b-e948-5395085ccc84"
      },
      "execution_count": null,
      "outputs": [
        {
          "output_type": "stream",
          "name": "stdout",
          "text": [
            "a = \n",
            "tensor([[1.0000, 0.0000, 0.0000],\n",
            "        [0.5000, 0.5000, 0.0000],\n",
            "        [0.3333, 0.3333, 0.3333]])\n",
            "b = \n",
            "tensor([[2., 7.],\n",
            "        [6., 4.],\n",
            "        [6., 5.]])\n",
            "c = \n",
            "tensor([[2.0000, 7.0000],\n",
            "        [4.0000, 5.5000],\n",
            "        [4.6667, 5.3333]])\n"
          ]
        }
      ]
    },
    {
      "cell_type": "markdown",
      "source": [
        "## Optimizing Ver2.0"
      ],
      "metadata": {
        "id": "AZK3XH_tdfgl"
      }
    },
    {
      "cell_type": "markdown",
      "source": [
        "Vectorizing"
      ],
      "metadata": {
        "id": "Gksxnu1dd7_C"
      }
    },
    {
      "cell_type": "markdown",
      "source": [
        "\n",
        "- create a matrix that is `(T,T)`\n",
        "- `T` is Timestamps\n",
        "- `wei` is weights"
      ],
      "metadata": {
        "id": "CBKF6HV5eSh7"
      }
    },
    {
      "cell_type": "code",
      "source": [
        "wei = torch.tril(torch.ones(T, T))\n",
        "wei = wei / wei.sum(1, keepdim=True)\n",
        "wei"
      ],
      "metadata": {
        "colab": {
          "base_uri": "https://localhost:8080/"
        },
        "id": "KlCHwy6HZEod",
        "outputId": "644be223-19cd-4be7-d8b6-250d1fdc5e6f"
      },
      "execution_count": null,
      "outputs": [
        {
          "output_type": "execute_result",
          "data": {
            "text/plain": [
              "tensor([[1.0000, 0.0000, 0.0000, 0.0000, 0.0000, 0.0000, 0.0000, 0.0000],\n",
              "        [0.5000, 0.5000, 0.0000, 0.0000, 0.0000, 0.0000, 0.0000, 0.0000],\n",
              "        [0.3333, 0.3333, 0.3333, 0.0000, 0.0000, 0.0000, 0.0000, 0.0000],\n",
              "        [0.2500, 0.2500, 0.2500, 0.2500, 0.0000, 0.0000, 0.0000, 0.0000],\n",
              "        [0.2000, 0.2000, 0.2000, 0.2000, 0.2000, 0.0000, 0.0000, 0.0000],\n",
              "        [0.1667, 0.1667, 0.1667, 0.1667, 0.1667, 0.1667, 0.0000, 0.0000],\n",
              "        [0.1429, 0.1429, 0.1429, 0.1429, 0.1429, 0.1429, 0.1429, 0.0000],\n",
              "        [0.1250, 0.1250, 0.1250, 0.1250, 0.1250, 0.1250, 0.1250, 0.1250]])"
            ]
          },
          "metadata": {},
          "execution_count": 44
        }
      ]
    },
    {
      "cell_type": "markdown",
      "source": [
        "- `wei` multiply with `x`\n",
        "- `x` is `x = torch.rand(B, T, C)`"
      ],
      "metadata": {
        "id": "tRkP4t_PepRw"
      }
    },
    {
      "cell_type": "code",
      "source": [
        "xbow2 = wei @ x\n",
        "# (T,T) @ (B,T,C) ---> (B,T,C)\n",
        "# (B,T,T) @ (B,T,C) ---> (B,T,C)"
      ],
      "metadata": {
        "id": "rxOwek57ZEl-"
      },
      "execution_count": null,
      "outputs": []
    },
    {
      "cell_type": "markdown",
      "source": [
        "Verify `xbow` and `xbow2`"
      ],
      "metadata": {
        "id": "4qsJEMkSfk1l"
      }
    },
    {
      "cell_type": "code",
      "source": [
        "torch.allclose(xbow, xbow2)"
      ],
      "metadata": {
        "colab": {
          "base_uri": "https://localhost:8080/"
        },
        "id": "qYDrzX23ZEjM",
        "outputId": "b0fb65ca-4492-473e-b0ca-6e6a7aa155fb"
      },
      "execution_count": null,
      "outputs": [
        {
          "output_type": "execute_result",
          "data": {
            "text/plain": [
              "True"
            ]
          },
          "metadata": {},
          "execution_count": 46
        }
      ]
    },
    {
      "cell_type": "code",
      "source": [
        "xbow[0], xbow2[0]"
      ],
      "metadata": {
        "colab": {
          "base_uri": "https://localhost:8080/"
        },
        "id": "3vs0DjJ3ZEgY",
        "outputId": "94fcc783-2509-4c03-8021-4b94a55680e1"
      },
      "execution_count": null,
      "outputs": [
        {
          "output_type": "execute_result",
          "data": {
            "text/plain": [
              "(tensor([[0.3970, 0.6915],\n",
              "         [0.2849, 0.7619],\n",
              "         [0.3167, 0.6039],\n",
              "         [0.2621, 0.4954],\n",
              "         [0.2793, 0.5417],\n",
              "         [0.2738, 0.5721],\n",
              "         [0.3412, 0.4921],\n",
              "         [0.3923, 0.5080]]),\n",
              " tensor([[0.3970, 0.6915],\n",
              "         [0.2849, 0.7619],\n",
              "         [0.3167, 0.6039],\n",
              "         [0.2621, 0.4954],\n",
              "         [0.2793, 0.5417],\n",
              "         [0.2738, 0.5721],\n",
              "         [0.3412, 0.4921],\n",
              "         [0.3923, 0.5080]]))"
            ]
          },
          "metadata": {},
          "execution_count": 47
        }
      ]
    },
    {
      "cell_type": "markdown",
      "source": [
        "Wrap up"
      ],
      "metadata": {
        "id": "GKH5A43giyW8"
      }
    },
    {
      "cell_type": "code",
      "source": [
        "wei = torch.tril(torch.ones(T, T))\n",
        "wei = wei / wei.sum(1, keepdim=True)\n",
        "xbow2 = wei @ x\n",
        "torch.allclose(xbow, xbow2)"
      ],
      "metadata": {
        "colab": {
          "base_uri": "https://localhost:8080/"
        },
        "id": "SfijwZzXizre",
        "outputId": "886934ee-6720-4d48-8afc-508dd5c00414"
      },
      "execution_count": null,
      "outputs": [
        {
          "output_type": "execute_result",
          "data": {
            "text/plain": [
              "True"
            ]
          },
          "metadata": {},
          "execution_count": 48
        }
      ]
    },
    {
      "cell_type": "markdown",
      "source": [
        "## Optimizing ver3.0"
      ],
      "metadata": {
        "id": "ZeFspE4igzgD"
      }
    },
    {
      "cell_type": "code",
      "source": [
        "tril = torch.tril(torch.ones(T,T))\n",
        "tril"
      ],
      "metadata": {
        "colab": {
          "base_uri": "https://localhost:8080/"
        },
        "id": "dV4IhpSNhKt2",
        "outputId": "489be27d-8515-410d-91b4-5a29aa6d928f"
      },
      "execution_count": null,
      "outputs": [
        {
          "output_type": "execute_result",
          "data": {
            "text/plain": [
              "tensor([[1., 0., 0., 0., 0., 0., 0., 0.],\n",
              "        [1., 1., 0., 0., 0., 0., 0., 0.],\n",
              "        [1., 1., 1., 0., 0., 0., 0., 0.],\n",
              "        [1., 1., 1., 1., 0., 0., 0., 0.],\n",
              "        [1., 1., 1., 1., 1., 0., 0., 0.],\n",
              "        [1., 1., 1., 1., 1., 1., 0., 0.],\n",
              "        [1., 1., 1., 1., 1., 1., 1., 0.],\n",
              "        [1., 1., 1., 1., 1., 1., 1., 1.]])"
            ]
          },
          "metadata": {},
          "execution_count": 49
        }
      ]
    },
    {
      "cell_type": "code",
      "source": [
        "wei = torch.zeros(T, T)\n",
        "wei"
      ],
      "metadata": {
        "colab": {
          "base_uri": "https://localhost:8080/"
        },
        "id": "XB_eECO8ZEds",
        "outputId": "769ac018-7956-4909-f6fa-9e19e8cbd86d"
      },
      "execution_count": null,
      "outputs": [
        {
          "output_type": "execute_result",
          "data": {
            "text/plain": [
              "tensor([[0., 0., 0., 0., 0., 0., 0., 0.],\n",
              "        [0., 0., 0., 0., 0., 0., 0., 0.],\n",
              "        [0., 0., 0., 0., 0., 0., 0., 0.],\n",
              "        [0., 0., 0., 0., 0., 0., 0., 0.],\n",
              "        [0., 0., 0., 0., 0., 0., 0., 0.],\n",
              "        [0., 0., 0., 0., 0., 0., 0., 0.],\n",
              "        [0., 0., 0., 0., 0., 0., 0., 0.],\n",
              "        [0., 0., 0., 0., 0., 0., 0., 0.]])"
            ]
          },
          "metadata": {},
          "execution_count": 50
        }
      ]
    },
    {
      "cell_type": "markdown",
      "source": [
        "Masked everything on `wei`, according to element inside `tril` that is equal to 0, to -inf"
      ],
      "metadata": {
        "id": "2Bl0-GaPhiJD"
      }
    },
    {
      "cell_type": "code",
      "source": [
        "wei = wei.masked_fill(tril==0, float('-inf'))\n",
        "wei"
      ],
      "metadata": {
        "colab": {
          "base_uri": "https://localhost:8080/"
        },
        "id": "D9EC8Pbrg3V4",
        "outputId": "0e51b577-af04-42c2-b77f-a39c4dd2226d"
      },
      "execution_count": null,
      "outputs": [
        {
          "output_type": "execute_result",
          "data": {
            "text/plain": [
              "tensor([[0., -inf, -inf, -inf, -inf, -inf, -inf, -inf],\n",
              "        [0., 0., -inf, -inf, -inf, -inf, -inf, -inf],\n",
              "        [0., 0., 0., -inf, -inf, -inf, -inf, -inf],\n",
              "        [0., 0., 0., 0., -inf, -inf, -inf, -inf],\n",
              "        [0., 0., 0., 0., 0., -inf, -inf, -inf],\n",
              "        [0., 0., 0., 0., 0., 0., -inf, -inf],\n",
              "        [0., 0., 0., 0., 0., 0., 0., -inf],\n",
              "        [0., 0., 0., 0., 0., 0., 0., 0.]])"
            ]
          },
          "metadata": {},
          "execution_count": 51
        }
      ]
    },
    {
      "cell_type": "code",
      "source": [
        "wei = F.softmax(wei, dim=-1)\n",
        "wei"
      ],
      "metadata": {
        "colab": {
          "base_uri": "https://localhost:8080/"
        },
        "id": "uTdSuNYKg_ef",
        "outputId": "b2836e5c-58ff-4b06-b7dc-384caadf7172"
      },
      "execution_count": null,
      "outputs": [
        {
          "output_type": "execute_result",
          "data": {
            "text/plain": [
              "tensor([[1.0000, 0.0000, 0.0000, 0.0000, 0.0000, 0.0000, 0.0000, 0.0000],\n",
              "        [0.5000, 0.5000, 0.0000, 0.0000, 0.0000, 0.0000, 0.0000, 0.0000],\n",
              "        [0.3333, 0.3333, 0.3333, 0.0000, 0.0000, 0.0000, 0.0000, 0.0000],\n",
              "        [0.2500, 0.2500, 0.2500, 0.2500, 0.0000, 0.0000, 0.0000, 0.0000],\n",
              "        [0.2000, 0.2000, 0.2000, 0.2000, 0.2000, 0.0000, 0.0000, 0.0000],\n",
              "        [0.1667, 0.1667, 0.1667, 0.1667, 0.1667, 0.1667, 0.0000, 0.0000],\n",
              "        [0.1429, 0.1429, 0.1429, 0.1429, 0.1429, 0.1429, 0.1429, 0.0000],\n",
              "        [0.1250, 0.1250, 0.1250, 0.1250, 0.1250, 0.1250, 0.1250, 0.1250]])"
            ]
          },
          "metadata": {},
          "execution_count": 52
        }
      ]
    },
    {
      "cell_type": "markdown",
      "source": [
        "Wrap up"
      ],
      "metadata": {
        "id": "LwJrb2_HiXVZ"
      }
    },
    {
      "cell_type": "code",
      "source": [
        "tril = torch.tril(torch.ones(T,T))\n",
        "wei = torch.zeros(T, T)\n",
        "wei = wei.masked_fill(tril==0, float('-inf'))\n",
        "wei = F.softmax(wei, dim=-1)\n",
        "\n",
        "xbow3 = wei @ x\n",
        "torch.allclose(xbow, xbow3)"
      ],
      "metadata": {
        "colab": {
          "base_uri": "https://localhost:8080/"
        },
        "id": "2bc_xFf8iT5b",
        "outputId": "6807356e-51c4-4d77-efc1-8424a7c4bdd9"
      },
      "execution_count": null,
      "outputs": [
        {
          "output_type": "execute_result",
          "data": {
            "text/plain": [
              "True"
            ]
          },
          "metadata": {},
          "execution_count": 53
        }
      ]
    },
    {
      "cell_type": "markdown",
      "source": [
        "- `weights` begin with 0\n",
        "- Think of like an iteraction string, or affinity, so basically its telling us how much of each token from the past do we want to aggregate and average up\n",
        "\n",
        "- For line `wei = wei.masked_fill(tril==0, float('-inf'))` is saying tokens from the past cannot communicate by setting them to `-inf`, we are saying that we will not aggregate anything from those tokens.\n",
        "\n",
        "- It will then go through softmax, then aggregation.\n",
        "\n",
        "- `wei = torch.zeros(T, T)` are currently just set by us to be 0, but these affinities between the tokens are not going to be just constant at zero, they are going to be data dependent.\n",
        "\n",
        "- there tokens are going to start looking at each other, and some tokens will find other tokens more of less interesting, and depending on what their values are, they are going to find each other interesting to different amounts(affinities)\n",
        "\n",
        "- Future cannot communicating with the past, we are going to clamp them and then when we normalize and sum, we will aggregate their values on how interesting they find each other\n",
        "\n",
        "Long Story Short:\n",
        "- We can do weighted aggregation on our past elements by using matrix multiplication of a lower triangular fashion\n",
        "- Triangular part is telling us how much of each element fuses into this position.\n",
        "\n",
        "That's all, That's the Self-Attention !"
      ],
      "metadata": {
        "id": "VygSbKOJnkGm"
      }
    },
    {
      "cell_type": "markdown",
      "source": [
        "Optimizing ver4.0"
      ],
      "metadata": {
        "id": "0oiYJ6BJ63ja"
      }
    },
    {
      "cell_type": "markdown",
      "source": [
        "Query Vector: What am I looking for\n",
        "\n",
        "Key Vector: What do I contain\n",
        "\n",
        "- Do a dot product between keys and queries\n",
        "- For e.g, token 1 query dot product with all the keys of other tokens, and the dot product will become `weights`"
      ],
      "metadata": {
        "id": "pShVsIXT7z-7"
      }
    },
    {
      "cell_type": "markdown",
      "source": [
        "- Think of x like a private information to this token\n",
        "- For the purposes of the single head\n",
        "-- here is what I'm interested in\n",
        "-- here is what I have\n",
        "-- if you find me interesting, here is what I will communicate to you\n",
        "-- Its stored in v\n",
        "\n",
        "- v is the thing that get aggregated for the purposes of this single head between the different nodes"
      ],
      "metadata": {
        "id": "gCe7fjWzlg0z"
      }
    },
    {
      "cell_type": "code",
      "source": [
        "torch.manual_seed(1337)\n",
        "B,T,C = 4,8,32\n",
        "x = torch.randn(B,T,C)\n",
        "\n",
        "head_size = 16\n",
        "key = nn.Linear(C, head_size, bias=False)\n",
        "query = nn.Linear(C, head_size, bias=False)\n",
        "\n",
        "k = key(x) # (B,T,16)\n",
        "q = query(x) # (B,T,16)\n",
        "\n",
        "wei = q @ k.transpose(-2,-1)\n",
        "# (B,T,16) cannot multiply with (B,T,16)\n",
        "# (B,T,16) @ (B,16,T) --> (B,T,T)\n",
        "# Remeber that it is the query dot product with other keys\n",
        "\n",
        "\n",
        "tril = torch.tril(torch.ones(T,T))\n",
        "# wei = torch.zeros(T, T) # we will no longer need this\n",
        "wei = wei.masked_fill(tril==0, float('-inf'))\n",
        "wei = F.softmax(wei, dim=-1)\n",
        "\n",
        "out = wei @ x\n",
        "out.shape"
      ],
      "metadata": {
        "id": "bnai6Vkd9vEN",
        "colab": {
          "base_uri": "https://localhost:8080/"
        },
        "outputId": "bd3e1d10-1884-4495-f340-c01527f093e6"
      },
      "execution_count": null,
      "outputs": [
        {
          "output_type": "execute_result",
          "data": {
            "text/plain": [
              "torch.Size([4, 8, 32])"
            ]
          },
          "metadata": {},
          "execution_count": 54
        }
      ]
    },
    {
      "cell_type": "markdown",
      "source": [
        "We need another Value"
      ],
      "metadata": {
        "id": "RGL-qhQAozHB"
      }
    },
    {
      "cell_type": "code",
      "source": [
        "torch.manual_seed(1337)\n",
        "B,T,C = 4,8,32\n",
        "x = torch.randn(B,T,C)\n",
        "\n",
        "head_size = 16\n",
        "key = nn.Linear(C, head_size, bias=False)\n",
        "query = nn.Linear(C, head_size, bias=False)\n",
        "value = nn.Linear(C, head_size, bias=False)\n",
        "\n",
        "k = key(x) # (B,T,16)\n",
        "q = query(x) # (B,T,16)\n",
        "\n",
        "wei = q @ k.transpose(-2,-1)\n",
        "# (B,T,16) cannot multiply with (B,T,16)\n",
        "# (B,T,16) @ (B,16,T) --> (B,T,T)\n",
        "# Remeber that it is the query dot product with other keys\n",
        "\n",
        "tril = torch.tril(torch.ones(T,T))\n",
        "# wei = torch.zeros(T, T) # we will no longer need this\n",
        "wei = wei.masked_fill(tril==0, float('-inf'))\n",
        "wei = F.softmax(wei, dim=-1)\n",
        "\n",
        "# out = wei @ x\n",
        "v = value(x)\n",
        "out = wei @ v\n",
        "out.shape"
      ],
      "metadata": {
        "colab": {
          "base_uri": "https://localhost:8080/"
        },
        "id": "sNvC-JMTn7N6",
        "outputId": "076daa1b-1429-4cc0-8417-0c0e1d489f86"
      },
      "execution_count": null,
      "outputs": [
        {
          "output_type": "execute_result",
          "data": {
            "text/plain": [
              "torch.Size([4, 8, 16])"
            ]
          },
          "metadata": {},
          "execution_count": 55
        }
      ]
    },
    {
      "cell_type": "markdown",
      "source": [
        "Scaling is use just to control the variance at initialization"
      ],
      "metadata": {
        "id": "HLx2t7gwswZw"
      }
    },
    {
      "cell_type": "code",
      "source": [
        "k = torch.randn(B,T,head_size)\n",
        "q = torch.randn(B,T,head_size)\n",
        "wei = q @ k.transpose(-2,-1) #* head_size**-0.5"
      ],
      "metadata": {
        "id": "c2cMn4yrpBQW"
      },
      "execution_count": null,
      "outputs": []
    },
    {
      "cell_type": "code",
      "source": [
        "print(k.var())\n",
        "print(q.var())\n",
        "print(wei.var())"
      ],
      "metadata": {
        "colab": {
          "base_uri": "https://localhost:8080/"
        },
        "id": "eawTTxoisGAe",
        "outputId": "800c01a6-2e29-4ff9-9980-4b34799e00a3"
      },
      "execution_count": null,
      "outputs": [
        {
          "output_type": "stream",
          "name": "stdout",
          "text": [
            "tensor(1.0449)\n",
            "tensor(1.0700)\n",
            "tensor(17.4690)\n"
          ]
        }
      ]
    },
    {
      "cell_type": "code",
      "source": [
        "print(torch.softmax(torch.tensor([0.1, -0.2, 0.3, -0.2, 0.5]), dim=-1))\n",
        "print(torch.softmax(torch.tensor([0.1, -0.2, 0.3, -0.2, 0.5])*8, dim=-1))"
      ],
      "metadata": {
        "colab": {
          "base_uri": "https://localhost:8080/"
        },
        "id": "AODTwNEdsLT3",
        "outputId": "c750b25e-cf50-40b9-8b61-13333833bf3d"
      },
      "execution_count": null,
      "outputs": [
        {
          "output_type": "stream",
          "name": "stdout",
          "text": [
            "tensor([0.1925, 0.1426, 0.2351, 0.1426, 0.2872])\n",
            "tensor([0.0326, 0.0030, 0.1615, 0.0030, 0.8000])\n"
          ]
        }
      ]
    },
    {
      "cell_type": "code",
      "source": [
        "k = torch.randn(B,T,head_size)\n",
        "q = torch.randn(B,T,head_size)\n",
        "wei = q @ k.transpose(-2,-1) * head_size**-0.5"
      ],
      "metadata": {
        "id": "DiJT9alPsXK0"
      },
      "execution_count": null,
      "outputs": []
    },
    {
      "cell_type": "code",
      "source": [
        "print(k.var())\n",
        "print(q.var())\n",
        "print(wei.var())"
      ],
      "metadata": {
        "colab": {
          "base_uri": "https://localhost:8080/"
        },
        "id": "jLVpqiEBsqxB",
        "outputId": "7c2174c8-835b-4465-e24e-5ebda47ae728"
      },
      "execution_count": null,
      "outputs": [
        {
          "output_type": "stream",
          "name": "stdout",
          "text": [
            "tensor(0.9006)\n",
            "tensor(1.0037)\n",
            "tensor(0.9957)\n"
          ]
        }
      ]
    },
    {
      "cell_type": "code",
      "source": [
        "print(torch.softmax(torch.tensor([0.1, -0.2, 0.3, -0.2, 0.5]), dim=-1))\n",
        "print(torch.softmax(torch.tensor([0.1, -0.2, 0.3, -0.2, 0.5])*8, dim=-1))"
      ],
      "metadata": {
        "colab": {
          "base_uri": "https://localhost:8080/"
        },
        "id": "8P9dLRBTsrhv",
        "outputId": "e02cf805-2851-439d-9813-0e78bc5229c1"
      },
      "execution_count": null,
      "outputs": [
        {
          "output_type": "stream",
          "name": "stdout",
          "text": [
            "tensor([0.1925, 0.1426, 0.2351, 0.1426, 0.2872])\n",
            "tensor([0.0326, 0.0030, 0.1615, 0.0030, 0.8000])\n"
          ]
        }
      ]
    },
    {
      "cell_type": "code",
      "source": [],
      "metadata": {
        "id": "Ecc2WCGssrt4"
      },
      "execution_count": null,
      "outputs": []
    },
    {
      "cell_type": "markdown",
      "source": [
        "# Attention is All You Need !"
      ],
      "metadata": {
        "id": "gDulJdmLdpSY"
      }
    },
    {
      "cell_type": "markdown",
      "source": [
        "## One-Head-Attention"
      ],
      "metadata": {
        "id": "MCkeo9ne04Er"
      }
    },
    {
      "cell_type": "code",
      "source": [
        "import torch\n",
        "import torch.nn as nn\n",
        "from torch.nn import functional as F\n",
        "\n",
        "# hyperparameters\n",
        "batch_size = 64 # how many independent sequences will we process in parallel?\n",
        "block_size = 8 # what is the maximum context length for predictions?\n",
        "max_iters = 5000\n",
        "eval_interval = 500\n",
        "learning_rate = 1e-3\n",
        "device = 'cuda' if torch.cuda.is_available() else 'cpu'\n",
        "eval_iters = 200\n",
        "n_embd = 32\n",
        "\n",
        "torch.manual_seed(1337)\n",
        "\n",
        "# wget https://raw.githubusercontent.com/karpathy/char-rnn/master/data/tinyshakespeare/input.txt\n",
        "with open('input.txt', 'r', encoding='utf-8') as f:\n",
        "    text = f.read()\n",
        "\n",
        "# here are all the unique characters that occur in this text\n",
        "chars = sorted(list(set(text)))\n",
        "vocab_size = len(chars)\n",
        "# create a mapping from characters to integers\n",
        "stoi = { ch:i for i,ch in enumerate(chars) }\n",
        "itos = { i:ch for i,ch in enumerate(chars) }\n",
        "encode = lambda s: [stoi[c] for c in s] # encoder: take a string, output a list of integers\n",
        "decode = lambda l: ''.join([itos[i] for i in l]) # decoder: take a list of integers, output a string\n",
        "\n",
        "# Train and test splits\n",
        "data = torch.tensor(encode(text), dtype=torch.long)\n",
        "n = int(0.9*len(data)) # first 90% will be train, rest val\n",
        "train_data = data[:n]\n",
        "val_data = data[n:]\n",
        "\n",
        "# data loading\n",
        "def get_batch(split):\n",
        "    # generate a small batch of data of inputs x and targets y\n",
        "    data = train_data if split == 'train' else val_data\n",
        "    ix = torch.randint(len(data) - block_size, (batch_size,))\n",
        "    x = torch.stack([data[i:i+block_size] for i in ix])\n",
        "    y = torch.stack([data[i+1:i+block_size+1] for i in ix])\n",
        "    x, y = x.to(device), y.to(device)\n",
        "    return x, y\n",
        "\n",
        "@torch.no_grad()\n",
        "def estimate_loss():\n",
        "    out = {}\n",
        "    model.eval()\n",
        "    for split in ['train', 'val']:\n",
        "        losses = torch.zeros(eval_iters)\n",
        "        for k in range(eval_iters):\n",
        "            X, Y = get_batch(split)\n",
        "            logits, loss = model(X, Y)\n",
        "            losses[k] = loss.item()\n",
        "        out[split] = losses.mean()\n",
        "    model.train()\n",
        "    return out\n",
        "\n",
        "# Created Head Module\n",
        "class Head(nn.Module):\n",
        "    \"\"\" one head of self-attention \"\"\"\n",
        "\n",
        "    def __init__(self, head_size):\n",
        "        super().__init__()\n",
        "        # --------------------------------------------------------------------------\n",
        "        # Initializing key, query, value, and torch.tril()\n",
        "        # --------------------------------------------------------------------------\n",
        "        self.key = nn.Linear(n_embd, head_size, bias=False)\n",
        "        self.query = nn.Linear(n_embd, head_size, bias=False)\n",
        "        self.value = nn.Linear(n_embd, head_size, bias=False)\n",
        "        self.register_buffer('tril', torch.tril(torch.ones(block_size, block_size)))\n",
        "        # --------------------------------------------------------------------------\n",
        "\n",
        "    def forward(self, x):\n",
        "        # input of size (batch, time-step, channels)\n",
        "        # output of size (batch, time-step, head size)\n",
        "        B,T,C = x.shape\n",
        "        k = self.key(x)   # (B,T,C)\n",
        "        q = self.query(x) # (B,T,C)\n",
        "        # compute attention scores (\"affinities\")\n",
        "        wei = q @ k.transpose(-2,-1) * C**-0.5 # (B, T, C) @ (B, C, T) -> (B, T, T)\n",
        "        wei = wei.masked_fill(self.tril[:T, :T] == 0, float('-inf')) # (B, T, T)\n",
        "        wei = F.softmax(wei, dim=-1) # (B, T, T)\n",
        "        # perform the weighted aggregation of the values\n",
        "        v = self.value(x) # (B,T,hs)\n",
        "        out = wei @ v # (B, T, T) @ (B, T, hs) -> (B, T, hs)\n",
        "        return out\n",
        "\n",
        "class BigramLanguageModel(nn.Module):\n",
        "\n",
        "    def __init__(self):\n",
        "        super().__init__()\n",
        "        # each token directly reads off the logits for the next token from a lookup table\n",
        "        self.token_embedding_table = nn.Embedding(vocab_size, n_embd)\n",
        "        self.position_embedding_table = nn.Embedding(block_size, n_embd)\n",
        "        self.sa_head = Head(n_embd)\n",
        "        self.lm_head = nn.Linear(n_embd, vocab_size)\n",
        "\n",
        "    def forward(self, idx, targets=None):\n",
        "        B, T = idx.shape\n",
        "\n",
        "        # idx and targets are both (B,T) tensor of integers\n",
        "        tok_emb = self.token_embedding_table(idx) # (B,T,C)\n",
        "        pos_emb = self.position_embedding_table(torch.arange(T, device=device)) # (T,C)\n",
        "        x = tok_emb + pos_emb # (B,T,C)\n",
        "        x = self.sa_head(x) # apply one head of self-attention (B,T,C)\n",
        "        logits = self.lm_head(x) # (B,T,vocab_size)\n",
        "\n",
        "        if targets is None:\n",
        "            loss = None\n",
        "        else:\n",
        "            B, T, C = logits.shape\n",
        "            logits = logits.view(B*T, C)\n",
        "            targets = targets.view(B*T)\n",
        "            loss = F.cross_entropy(logits, targets)\n",
        "\n",
        "        return logits, loss\n",
        "\n",
        "    def generate(self, idx, max_new_tokens):\n",
        "        # idx is (B, T) array of indices in the current context\n",
        "        for _ in range(max_new_tokens):\n",
        "            # crop idx to the last block_size tokens\n",
        "            idx_cond = idx[:, -block_size:] # <----------- Cropping out index, because we use positional embedding\n",
        "            # get the predictions\n",
        "            logits, loss = self(idx_cond)\n",
        "            # focus only on the last time step\n",
        "            logits = logits[:, -1, :] # becomes (B, C)\n",
        "            # apply softmax to get probabilities\n",
        "            probs = F.softmax(logits, dim=-1) # (B, C)\n",
        "            # sample from the distribution\n",
        "            idx_next = torch.multinomial(probs, num_samples=1) # (B, 1)\n",
        "            # append sampled index to the running sequence\n",
        "            idx = torch.cat((idx, idx_next), dim=1) # (B, T+1)\n",
        "        return idx\n",
        "\n",
        "model = BigramLanguageModel()\n",
        "m = model.to(device)\n",
        "# print the number of parameters in the model\n",
        "print(sum(p.numel() for p in m.parameters())/1e6, 'M parameters')\n",
        "\n",
        "# create a PyTorch optimizer\n",
        "optimizer = torch.optim.AdamW(model.parameters(), lr=learning_rate)\n",
        "\n",
        "for iter in range(max_iters):\n",
        "\n",
        "    # every once in a while evaluate the loss on train and val sets\n",
        "    if iter % eval_interval == 0:\n",
        "        losses = estimate_loss()\n",
        "        print(f\"step {iter}: train loss {losses['train']:.4f}, val loss {losses['val']:.4f}\")\n",
        "\n",
        "    # sample a batch of data\n",
        "    xb, yb = get_batch('train')\n",
        "\n",
        "    # evaluate the loss\n",
        "    logits, loss = model(xb, yb)\n",
        "    optimizer.zero_grad(set_to_none=True)\n",
        "    loss.backward()\n",
        "    optimizer.step()\n",
        "\n",
        "# generate from the model\n",
        "context = torch.zeros((1, 1), dtype=torch.long, device=device)\n",
        "print(decode(m.generate(context, max_new_tokens=500)[0].tolist()))\n",
        "#open('more.txt', 'w').write(decode(m.generate(context, max_new_tokens=10000)[0].tolist()))"
      ],
      "metadata": {
        "colab": {
          "base_uri": "https://localhost:8080/"
        },
        "id": "HRBGC5Lk03dU",
        "outputId": "19ccd730-b520-4ce4-fbd1-c03f56e6ad7b"
      },
      "execution_count": null,
      "outputs": [
        {
          "output_type": "stream",
          "name": "stdout",
          "text": [
            "0.007553 M parameters\n",
            "step 0: train loss 4.2010, val loss 4.2028\n",
            "step 500: train loss 2.6260, val loss 2.6385\n",
            "step 1000: train loss 2.4810, val loss 2.4983\n",
            "step 1500: train loss 2.4376, val loss 2.4544\n",
            "step 2000: train loss 2.4229, val loss 2.4267\n",
            "step 2500: train loss 2.4079, val loss 2.4199\n",
            "step 3000: train loss 2.4028, val loss 2.4122\n",
            "step 3500: train loss 2.3885, val loss 2.4075\n",
            "step 4000: train loss 2.3759, val loss 2.3991\n",
            "step 4500: train loss 2.3686, val loss 2.4003\n",
            "\n",
            "An ve boller ath thys AUTes st?\n",
            "\n",
            "S: I tte thento bed whers, PORDund fr inorned omy heand:\n",
            "I INIICome, bel gre?\n",
            "\n",
            "Kor burikey?\n",
            "A,\n",
            "SILese, yore st borudd to on tesit the\n",
            "Tu that sremer.\n",
            "\n",
            "ILETOUEDI TAngu ade falivir, hint.\n",
            "\n",
            "CAN Corto st fa bee thine yout wavefars foot t tere nd woimbes sses ldui, handy tshounof aneam,\n",
            "A ost th yal wos, tras themaypur ald de hous:\n",
            "ccof upren ingas hesittirilly tit th quiton ive ns im a;\n",
            "MI akift wo thing! ow fol mun Is ave,\n",
            "Rhe catel wroexpua, tohead wing fem,\n",
            "Me\n",
            "He?\n"
          ]
        }
      ]
    },
    {
      "cell_type": "markdown",
      "source": [
        "## Multi-Head-Attention"
      ],
      "metadata": {
        "id": "D4dvyDK9X8rl"
      }
    },
    {
      "cell_type": "code",
      "source": [
        "import torch\n",
        "import torch.nn as nn\n",
        "from torch.nn import functional as F\n",
        "\n",
        "# hyperparameters\n",
        "batch_size = 64 # how many independent sequences will we process in parallel?\n",
        "block_size = 8 # what is the maximum context length for predictions?\n",
        "max_iters = 5000\n",
        "eval_interval = 500\n",
        "learning_rate = 1e-3\n",
        "device = 'cuda' if torch.cuda.is_available() else 'cpu'\n",
        "eval_iters = 200\n",
        "n_embd = 32\n",
        "\n",
        "torch.manual_seed(1337)\n",
        "\n",
        "# wget https://raw.githubusercontent.com/karpathy/char-rnn/master/data/tinyshakespeare/input.txt\n",
        "with open('input.txt', 'r', encoding='utf-8') as f:\n",
        "    text = f.read()\n",
        "\n",
        "# here are all the unique characters that occur in this text\n",
        "chars = sorted(list(set(text)))\n",
        "vocab_size = len(chars)\n",
        "# create a mapping from characters to integers\n",
        "stoi = { ch:i for i,ch in enumerate(chars) }\n",
        "itos = { i:ch for i,ch in enumerate(chars) }\n",
        "encode = lambda s: [stoi[c] for c in s] # encoder: take a string, output a list of integers\n",
        "decode = lambda l: ''.join([itos[i] for i in l]) # decoder: take a list of integers, output a string\n",
        "\n",
        "# Train and test splits\n",
        "data = torch.tensor(encode(text), dtype=torch.long)\n",
        "n = int(0.9*len(data)) # first 90% will be train, rest val\n",
        "train_data = data[:n]\n",
        "val_data = data[n:]\n",
        "\n",
        "# data loading\n",
        "def get_batch(split):\n",
        "    # generate a small batch of data of inputs x and targets y\n",
        "    data = train_data if split == 'train' else val_data\n",
        "    ix = torch.randint(len(data) - block_size, (batch_size,))\n",
        "    x = torch.stack([data[i:i+block_size] for i in ix])\n",
        "    y = torch.stack([data[i+1:i+block_size+1] for i in ix])\n",
        "    x, y = x.to(device), y.to(device)\n",
        "    return x, y\n",
        "\n",
        "@torch.no_grad()\n",
        "def estimate_loss():\n",
        "    out = {}\n",
        "    model.eval()\n",
        "    for split in ['train', 'val']:\n",
        "        losses = torch.zeros(eval_iters)\n",
        "        for k in range(eval_iters):\n",
        "            X, Y = get_batch(split)\n",
        "            logits, loss = model(X, Y)\n",
        "            losses[k] = loss.item()\n",
        "        out[split] = losses.mean()\n",
        "    model.train()\n",
        "    return out\n",
        "\n",
        "# Created Head Module\n",
        "class Head(nn.Module):\n",
        "    \"\"\" one head of self-attention \"\"\"\n",
        "\n",
        "    def __init__(self, head_size):\n",
        "        super().__init__()\n",
        "        # --------------------------------------------------------------------------\n",
        "        # Initializing key, query, value, and torch.tril()\n",
        "        # --------------------------------------------------------------------------\n",
        "        self.key = nn.Linear(n_embd, head_size, bias=False)\n",
        "        self.query = nn.Linear(n_embd, head_size, bias=False)\n",
        "        self.value = nn.Linear(n_embd, head_size, bias=False)\n",
        "        self.register_buffer('tril', torch.tril(torch.ones(block_size, block_size)))\n",
        "        # --------------------------------------------------------------------------\n",
        "\n",
        "    def forward(self, x):\n",
        "        # input of size (batch, time-step, channels)\n",
        "        # output of size (batch, time-step, head size)\n",
        "        B,T,C = x.shape\n",
        "        k = self.key(x)   # (B,T,C)\n",
        "        q = self.query(x) # (B,T,C)\n",
        "        # compute attention scores (\"affinities\")\n",
        "        wei = q @ k.transpose(-2,-1) * C**-0.5 # (B, T, C) @ (B, C, T) -> (B, T, T)\n",
        "        wei = wei.masked_fill(self.tril[:T, :T] == 0, float('-inf')) # (B, T, T)\n",
        "        wei = F.softmax(wei, dim=-1) # (B, T, T)\n",
        "        # perform the weighted aggregation of the values\n",
        "        v = self.value(x) # (B,T,hs)\n",
        "        out = wei @ v # (B, T, T) @ (B, T, hs) -> (B, T, hs)\n",
        "        return out\n",
        "\n",
        "class MultiHeadAttention(nn.Module):\n",
        "  \"\"\" multiple heads of self-attention in parallel\"\"\"\n",
        "\n",
        "  def __init__(self, num_heads, head_size):\n",
        "    super().__init__()\n",
        "    self.heads = nn.ModuleList([Head(head_size) for _ in range(num_heads)])\n",
        "\n",
        "  def forward(self, x):\n",
        "    return torch.cat([h(x) for h in self.heads], dim=-1)\n",
        "    # concatenating over channel dimension\n",
        "\n",
        "class BigramLanguageModel(nn.Module):\n",
        "\n",
        "    def __init__(self):\n",
        "        super().__init__()\n",
        "        # each token directly reads off the logits for the next token from a lookup table\n",
        "        self.token_embedding_table = nn.Embedding(vocab_size, n_embd)\n",
        "        self.position_embedding_table = nn.Embedding(block_size, n_embd)\n",
        "        self.sa_head = MultiHeadAttention(4, n_embd//4) # i.e. 4 heads of 8-dimensional self-attention\n",
        "        self.lm_head = nn.Linear(n_embd, vocab_size)\n",
        "\n",
        "    def forward(self, idx, targets=None):\n",
        "        B, T = idx.shape\n",
        "\n",
        "        # idx and targets are both (B,T) tensor of integers\n",
        "        tok_emb = self.token_embedding_table(idx) # (B,T,C)\n",
        "        pos_emb = self.position_embedding_table(torch.arange(T, device=device)) # (T,C)\n",
        "        x = tok_emb + pos_emb # (B,T,C)\n",
        "        # Taken Out in Multi-Head\n",
        "        # --------------------------------------------------------------\n",
        "        # x = self.sa_head(x) # apply one head of self-attention (B,T,C)\n",
        "        logits = self.lm_head(x) # (B,T,vocab_size)\n",
        "\n",
        "        if targets is None:\n",
        "            loss = None\n",
        "        else:\n",
        "            B, T, C = logits.shape\n",
        "            logits = logits.view(B*T, C)\n",
        "            targets = targets.view(B*T)\n",
        "            loss = F.cross_entropy(logits, targets)\n",
        "\n",
        "        return logits, loss\n",
        "\n",
        "    def generate(self, idx, max_new_tokens):\n",
        "        # idx is (B, T) array of indices in the current context\n",
        "        for _ in range(max_new_tokens):\n",
        "            # crop idx to the last block_size tokens\n",
        "            idx_cond = idx[:, -block_size:] # <----------- Cropping out index, because we use positional embedding\n",
        "            # get the predictions\n",
        "            logits, loss = self(idx_cond)\n",
        "            # focus only on the last time step\n",
        "            logits = logits[:, -1, :] # becomes (B, C)\n",
        "            # apply softmax to get probabilities\n",
        "            probs = F.softmax(logits, dim=-1) # (B, C)\n",
        "            # sample from the distribution\n",
        "            idx_next = torch.multinomial(probs, num_samples=1) # (B, 1)\n",
        "            # append sampled index to the running sequence\n",
        "            idx = torch.cat((idx, idx_next), dim=1) # (B, T+1)\n",
        "        return idx\n",
        "\n",
        "model = BigramLanguageModel()\n",
        "m = model.to(device)\n",
        "# print the number of parameters in the model\n",
        "print(sum(p.numel() for p in m.parameters())/1e6, 'M parameters')\n",
        "\n",
        "# create a PyTorch optimizer\n",
        "optimizer = torch.optim.AdamW(model.parameters(), lr=learning_rate)\n",
        "\n",
        "for iter in range(max_iters):\n",
        "\n",
        "    # every once in a while evaluate the loss on train and val sets\n",
        "    if iter % eval_interval == 0 or iter == max_iters - 1:\n",
        "        losses = estimate_loss()\n",
        "        print(f\"step {iter}: train loss {losses['train']:.4f}, val loss {losses['val']:.4f}\")\n",
        "\n",
        "    # sample a batch of data\n",
        "    xb, yb = get_batch('train')\n",
        "\n",
        "    # evaluate the loss\n",
        "    logits, loss = model(xb, yb)\n",
        "    optimizer.zero_grad(set_to_none=True)\n",
        "    loss.backward()\n",
        "    optimizer.step()\n",
        "\n",
        "# generate from the model\n",
        "context = torch.zeros((1, 1), dtype=torch.long, device=device)\n",
        "print(decode(m.generate(context, max_new_tokens=500)[0].tolist()))\n",
        "#open('more.txt', 'w').write(decode(m.generate(context, max_new_tokens=10000)[0].tolist()))"
      ],
      "metadata": {
        "id": "RK2U28O1XDfp",
        "colab": {
          "base_uri": "https://localhost:8080/"
        },
        "outputId": "02e9d0b8-18b4-4fa1-b6a1-dafa36eda31c"
      },
      "execution_count": null,
      "outputs": [
        {
          "output_type": "stream",
          "name": "stdout",
          "text": [
            "0.007553 M parameters\n",
            "step 0: train loss 4.5454, val loss 4.5446\n",
            "step 500: train loss 2.6895, val loss 2.7161\n",
            "step 1000: train loss 2.5605, val loss 2.5816\n",
            "step 1500: train loss 2.5184, val loss 2.5358\n",
            "step 2000: train loss 2.5058, val loss 2.5135\n",
            "step 2500: train loss 2.4971, val loss 2.5049\n",
            "step 3000: train loss 2.4964, val loss 2.5031\n",
            "step 3500: train loss 2.4807, val loss 2.4983\n",
            "step 4000: train loss 2.4758, val loss 2.4913\n",
            "step 4500: train loss 2.4703, val loss 2.4958\n",
            "step 4999: train loss 2.4673, val loss 2.4886\n",
            "\n",
            "Gsoulinoue\n",
            "SRDforefitheeepirere meay genour HAsend tl ntothe cke ve winofitr,\n",
            "\n",
            "Anrtin th brelpkint RDIOS:\n",
            "Thinded, cer; BINENUTho an nyshowononoutererorareven y n shallle ceyort whe,\n",
            "Was o r, rausele ARAnss ithofrveis po fie hourr whotodor sis, I yo tou acheshio ENREN IVS: huneslike,\n",
            "\n",
            "\n",
            "AMacof Hera han d, hew, d, arl that, coul ver ss t my y y d,\n",
            "CAMEule meloulare, my tour; ass, gof.\n",
            "hid ue waimy wad vild m, d trardeay pifoffod whesis stile gotey ull thedecthatrsese ththa hesu oravewsatheno st he\n"
          ]
        }
      ]
    },
    {
      "cell_type": "markdown",
      "source": [
        "## Feed Forward Module"
      ],
      "metadata": {
        "id": "5S8op_GMdUYZ"
      }
    },
    {
      "cell_type": "markdown",
      "source": [
        "We went way too fast when calculating the logits, resulting in the tokens looked at each other but didn't really have a lot of time to think on what they found from the other tokens.\n",
        "\n"
      ],
      "metadata": {
        "id": "8aXj4kOpd_AK"
      }
    },
    {
      "cell_type": "code",
      "source": [
        "import torch\n",
        "import torch.nn as nn\n",
        "from torch.nn import functional as F\n",
        "\n",
        "# hyperparameters\n",
        "batch_size = 64 # how many independent sequences will we process in parallel?\n",
        "block_size = 8 # what is the maximum context length for predictions?\n",
        "max_iters = 5000\n",
        "eval_interval = 500\n",
        "learning_rate = 1e-3\n",
        "device = 'cuda' if torch.cuda.is_available() else 'cpu'\n",
        "eval_iters = 200\n",
        "n_embd = 32\n",
        "\n",
        "torch.manual_seed(1337)\n",
        "\n",
        "# wget https://raw.githubusercontent.com/karpathy/char-rnn/master/data/tinyshakespeare/input.txt\n",
        "with open('input.txt', 'r', encoding='utf-8') as f:\n",
        "    text = f.read()\n",
        "\n",
        "# here are all the unique characters that occur in this text\n",
        "chars = sorted(list(set(text)))\n",
        "vocab_size = len(chars)\n",
        "# create a mapping from characters to integers\n",
        "stoi = { ch:i for i,ch in enumerate(chars) }\n",
        "itos = { i:ch for i,ch in enumerate(chars) }\n",
        "encode = lambda s: [stoi[c] for c in s] # encoder: take a string, output a list of integers\n",
        "decode = lambda l: ''.join([itos[i] for i in l]) # decoder: take a list of integers, output a string\n",
        "\n",
        "# Train and test splits\n",
        "data = torch.tensor(encode(text), dtype=torch.long)\n",
        "n = int(0.9*len(data)) # first 90% will be train, rest val\n",
        "train_data = data[:n]\n",
        "val_data = data[n:]\n",
        "\n",
        "# data loading\n",
        "def get_batch(split):\n",
        "    # generate a small batch of data of inputs x and targets y\n",
        "    data = train_data if split == 'train' else val_data\n",
        "    ix = torch.randint(len(data) - block_size, (batch_size,))\n",
        "    x = torch.stack([data[i:i+block_size] for i in ix])\n",
        "    y = torch.stack([data[i+1:i+block_size+1] for i in ix])\n",
        "    x, y = x.to(device), y.to(device)\n",
        "    return x, y\n",
        "\n",
        "@torch.no_grad()\n",
        "def estimate_loss():\n",
        "    out = {}\n",
        "    model.eval()\n",
        "    for split in ['train', 'val']:\n",
        "        losses = torch.zeros(eval_iters)\n",
        "        for k in range(eval_iters):\n",
        "            X, Y = get_batch(split)\n",
        "            logits, loss = model(X, Y)\n",
        "            losses[k] = loss.item()\n",
        "        out[split] = losses.mean()\n",
        "    model.train()\n",
        "    return out\n",
        "\n",
        "# Created Head Module\n",
        "class Head(nn.Module):\n",
        "    \"\"\" one head of self-attention \"\"\"\n",
        "\n",
        "    def __init__(self, head_size):\n",
        "        super().__init__()\n",
        "        # --------------------------------------------------------------------------\n",
        "        # Initializing key, query, value, and torch.tril()\n",
        "        # --------------------------------------------------------------------------\n",
        "        self.key = nn.Linear(n_embd, head_size, bias=False)\n",
        "        self.query = nn.Linear(n_embd, head_size, bias=False)\n",
        "        self.value = nn.Linear(n_embd, head_size, bias=False)\n",
        "        self.register_buffer('tril', torch.tril(torch.ones(block_size, block_size)))\n",
        "        # --------------------------------------------------------------------------\n",
        "\n",
        "    def forward(self, x):\n",
        "        # input of size (batch, time-step, channels)\n",
        "        # output of size (batch, time-step, head size)\n",
        "        B,T,C = x.shape\n",
        "        k = self.key(x)   # (B,T,C)\n",
        "        q = self.query(x) # (B,T,C)\n",
        "        # compute attention scores (\"affinities\")\n",
        "        wei = q @ k.transpose(-2,-1) * C**-0.5 # (B, T, C) @ (B, C, T) -> (B, T, T)\n",
        "        wei = wei.masked_fill(self.tril[:T, :T] == 0, float('-inf')) # (B, T, T)\n",
        "        wei = F.softmax(wei, dim=-1) # (B, T, T)\n",
        "        # perform the weighted aggregation of the values\n",
        "        v = self.value(x) # (B,T,hs)\n",
        "        out = wei @ v # (B, T, T) @ (B, T, hs) -> (B, T, hs)\n",
        "        return out\n",
        "\n",
        "class MultiHeadAttention(nn.Module):\n",
        "  \"\"\" multiple heads of self-attention in parallel\"\"\"\n",
        "\n",
        "  def __init__(self, num_heads, head_size):\n",
        "    super().__init__()\n",
        "    self.heads = nn.ModuleList([Head(head_size) for _ in range(num_heads)])\n",
        "\n",
        "  def forward(self, x):\n",
        "    return torch.cat([h(x) for h in self.heads], dim=-1)\n",
        "    # concatenating over channel dimension\n",
        "class FeedForward(nn.Module):\n",
        "  \"\"\" a simple linear layer followed by a non-linearity \"\"\"\n",
        "\n",
        "  def __init__(self, n_embd):\n",
        "    super().__init__()\n",
        "    self.net = nn.Sequential(\n",
        "        nn.Linear(n_embd, n_embd),\n",
        "        nn.ReLU(),\n",
        "    )\n",
        "\n",
        "  def forward(self, x):\n",
        "    return self.net(x)\n",
        "\n",
        "class BigramLanguageModel(nn.Module):\n",
        "\n",
        "    def __init__(self):\n",
        "        super().__init__()\n",
        "        # each token directly reads off the logits for the next token from a lookup table\n",
        "        self.token_embedding_table = nn.Embedding(vocab_size, n_embd)\n",
        "        self.position_embedding_table = nn.Embedding(block_size, n_embd)\n",
        "        self.sa_head = MultiHeadAttention(4, n_embd//4) # i.e. 4 heads of 8-dimensional self-attention\n",
        "        self.lm_head = nn.Linear(n_embd, vocab_size)\n",
        "\n",
        "    def forward(self, idx, targets=None):\n",
        "        B, T = idx.shape\n",
        "\n",
        "        # idx and targets are both (B,T) tensor of integers\n",
        "        tok_emb = self.token_embedding_table(idx) # (B,T,C)\n",
        "        pos_emb = self.position_embedding_table(torch.arange(T, device=device)) # (T,C)\n",
        "        x = tok_emb + pos_emb # (B,T,C)\n",
        "        # Taken Out in Multi-Head\n",
        "        # --------------------------------------------------------------\n",
        "        # x = self.sa_head(x) # apply one head of self-attention (B,T,C)\n",
        "        logits = self.lm_head(x) # (B,T,vocab_size)\n",
        "\n",
        "        if targets is None:\n",
        "            loss = None\n",
        "        else:\n",
        "            B, T, C = logits.shape\n",
        "            logits = logits.view(B*T, C)\n",
        "            targets = targets.view(B*T)\n",
        "            loss = F.cross_entropy(logits, targets)\n",
        "\n",
        "        return logits, loss\n",
        "\n",
        "    def generate(self, idx, max_new_tokens):\n",
        "        # idx is (B, T) array of indices in the current context\n",
        "        for _ in range(max_new_tokens):\n",
        "            # crop idx to the last block_size tokens\n",
        "            idx_cond = idx[:, -block_size:] # <----------- Cropping out index, because we use positional embedding\n",
        "            # get the predictions\n",
        "            logits, loss = self(idx_cond)\n",
        "            # focus only on the last time step\n",
        "            logits = logits[:, -1, :] # becomes (B, C)\n",
        "            # apply softmax to get probabilities\n",
        "            probs = F.softmax(logits, dim=-1) # (B, C)\n",
        "            # sample from the distribution\n",
        "            idx_next = torch.multinomial(probs, num_samples=1) # (B, 1)\n",
        "            # append sampled index to the running sequence\n",
        "            idx = torch.cat((idx, idx_next), dim=1) # (B, T+1)\n",
        "        return idx\n",
        "\n",
        "model = BigramLanguageModel()\n",
        "m = model.to(device)\n",
        "# print the number of parameters in the model\n",
        "print(sum(p.numel() for p in m.parameters())/1e6, 'M parameters')\n",
        "\n",
        "# create a PyTorch optimizer\n",
        "optimizer = torch.optim.AdamW(model.parameters(), lr=learning_rate)\n",
        "\n",
        "for iter in range(max_iters):\n",
        "\n",
        "    # every once in a while evaluate the loss on train and val sets\n",
        "    if iter % eval_interval == 0 or iter == max_iters - 1:\n",
        "        losses = estimate_loss()\n",
        "        print(f\"step {iter}: train loss {losses['train']:.4f}, val loss {losses['val']:.4f}\")\n",
        "\n",
        "    # sample a batch of data\n",
        "    xb, yb = get_batch('train')\n",
        "\n",
        "    # evaluate the loss\n",
        "    logits, loss = model(xb, yb)\n",
        "    optimizer.zero_grad(set_to_none=True)\n",
        "    loss.backward()\n",
        "    optimizer.step()\n",
        "\n",
        "# generate from the model\n",
        "context = torch.zeros((1, 1), dtype=torch.long, device=device)\n",
        "print(decode(m.generate(context, max_new_tokens=500)[0].tolist()))\n",
        "#open('more.txt', 'w').write(decode(m.generate(context, max_new_tokens=10000)[0].tolist()))"
      ],
      "metadata": {
        "colab": {
          "base_uri": "https://localhost:8080/"
        },
        "id": "d19a7GKyflco",
        "outputId": "978fae75-321b-4d9d-97ee-a1d2e03a7bda"
      },
      "execution_count": null,
      "outputs": [
        {
          "output_type": "stream",
          "name": "stdout",
          "text": [
            "0.007553 M parameters\n",
            "step 0: train loss 4.5454, val loss 4.5446\n",
            "step 500: train loss 2.6895, val loss 2.7161\n",
            "step 1000: train loss 2.5605, val loss 2.5816\n",
            "step 1500: train loss 2.5184, val loss 2.5358\n",
            "step 2000: train loss 2.5058, val loss 2.5135\n",
            "step 2500: train loss 2.4971, val loss 2.5049\n",
            "step 3000: train loss 2.4964, val loss 2.5031\n",
            "step 3500: train loss 2.4807, val loss 2.4983\n",
            "step 4000: train loss 2.4758, val loss 2.4913\n",
            "step 4500: train loss 2.4703, val loss 2.4958\n",
            "step 4999: train loss 2.4673, val loss 2.4886\n",
            "\n",
            "Gsoulinoue\n",
            "SRDforefitheeepirere meay genour HAsend tl ntothe cke ve winofitr,\n",
            "\n",
            "Anrtin th brelpkint RDIOS:\n",
            "Thinded, cer; BINENUTho an nyshowononoutererorareven y n shallle ceyort whe,\n",
            "Was o r, rausele ARAnss ithofrveis po fie hourr whotodor sis, I yo tou acheshio ENREN IVS: huneslike,\n",
            "\n",
            "\n",
            "AMacof Hera han d, hew, d, arl that, coul ver ss t my y y d,\n",
            "CAMEule meloulare, my tour; ass, gof.\n",
            "hid ue waimy wad vild m, d trardeay pifoffod whesis stile gotey ull thedecthatrsese ththa hesu oravewsatheno st he\n"
          ]
        }
      ]
    },
    {
      "cell_type": "markdown",
      "source": [
        "## Block Module"
      ],
      "metadata": {
        "id": "gMcUi-2Verdb"
      }
    },
    {
      "cell_type": "code",
      "source": [
        "import torch\n",
        "import torch.nn as nn\n",
        "from torch.nn import functional as F\n",
        "\n",
        "# hyperparameters\n",
        "batch_size = 64 # how many independent sequences will we process in parallel?\n",
        "block_size = 8 # what is the maximum context length for predictions?\n",
        "max_iters = 5000\n",
        "eval_interval = 500\n",
        "learning_rate = 1e-3\n",
        "device = 'cuda' if torch.cuda.is_available() else 'cpu'\n",
        "eval_iters = 200\n",
        "\n",
        "\n",
        "torch.manual_seed(1337)\n",
        "\n",
        "# wget https://raw.githubusercontent.com/karpathy/char-rnn/master/data/tinyshakespeare/input.txt\n",
        "with open('input.txt', 'r', encoding='utf-8') as f:\n",
        "    text = f.read()\n",
        "\n",
        "# here are all the unique characters that occur in this text\n",
        "chars = sorted(list(set(text)))\n",
        "vocab_size = len(chars)\n",
        "# create a mapping from characters to integers\n",
        "stoi = { ch:i for i,ch in enumerate(chars) }\n",
        "itos = { i:ch for i,ch in enumerate(chars) }\n",
        "encode = lambda s: [stoi[c] for c in s] # encoder: take a string, output a list of integers\n",
        "decode = lambda l: ''.join([itos[i] for i in l]) # decoder: take a list of integers, output a string\n",
        "\n",
        "# Train and test splits\n",
        "data = torch.tensor(encode(text), dtype=torch.long)\n",
        "n = int(0.9*len(data)) # first 90% will be train, rest val\n",
        "train_data = data[:n]\n",
        "val_data = data[n:]\n",
        "\n",
        "# data loading\n",
        "def get_batch(split):\n",
        "    # generate a small batch of data of inputs x and targets y\n",
        "    data = train_data if split == 'train' else val_data\n",
        "    ix = torch.randint(len(data) - block_size, (batch_size,))\n",
        "    x = torch.stack([data[i:i+block_size] for i in ix])\n",
        "    y = torch.stack([data[i+1:i+block_size+1] for i in ix])\n",
        "    x, y = x.to(device), y.to(device)\n",
        "    return x, y\n",
        "\n",
        "@torch.no_grad()\n",
        "def estimate_loss():\n",
        "    out = {}\n",
        "    model.eval()\n",
        "    for split in ['train', 'val']:\n",
        "        losses = torch.zeros(eval_iters)\n",
        "        for k in range(eval_iters):\n",
        "            X, Y = get_batch(split)\n",
        "            logits, loss = model(X, Y)\n",
        "            losses[k] = loss.item()\n",
        "        out[split] = losses.mean()\n",
        "    model.train()\n",
        "    return out\n",
        "\n",
        "# Created Head Module\n",
        "class Head(nn.Module):\n",
        "    \"\"\" one head of self-attention \"\"\"\n",
        "\n",
        "    def __init__(self, head_size):\n",
        "        super().__init__()\n",
        "        # --------------------------------------------------------------------------\n",
        "        # Initializing key, query, value, and torch.tril()\n",
        "        # --------------------------------------------------------------------------\n",
        "        self.key = nn.Linear(n_embd, head_size, bias=False)\n",
        "        self.query = nn.Linear(n_embd, head_size, bias=False)\n",
        "        self.value = nn.Linear(n_embd, head_size, bias=False)\n",
        "        self.register_buffer('tril', torch.tril(torch.ones(block_size, block_size)))\n",
        "        # --------------------------------------------------------------------------\n",
        "\n",
        "    def forward(self, x):\n",
        "        # input of size (batch, time-step, channels)\n",
        "        # output of size (batch, time-step, head size)\n",
        "        B,T,C = x.shape\n",
        "        k = self.key(x)   # (B,T,C)\n",
        "        q = self.query(x) # (B,T,C)\n",
        "        # compute attention scores (\"affinities\")\n",
        "        wei = q @ k.transpose(-2,-1) * C**-0.5 # (B, T, C) @ (B, C, T) -> (B, T, T)\n",
        "        wei = wei.masked_fill(self.tril[:T, :T] == 0, float('-inf')) # (B, T, T)\n",
        "        wei = F.softmax(wei, dim=-1) # (B, T, T)\n",
        "        # perform the weighted aggregation of the values\n",
        "        v = self.value(x) # (B,T,hs)\n",
        "        out = wei @ v # (B, T, T) @ (B, T, hs) -> (B, T, hs)\n",
        "        return out\n",
        "\n",
        "class MultiHeadAttention(nn.Module):\n",
        "  \"\"\" multiple heads of self-attention in parallel\"\"\"\n",
        "\n",
        "  def __init__(self, num_heads, head_size):\n",
        "    super().__init__()\n",
        "    self.heads = nn.ModuleList([Head(head_size) for _ in range(num_heads)])\n",
        "\n",
        "  def forward(self, x):\n",
        "    return torch.cat([h(x) for h in self.heads], dim=-1)\n",
        "    # concatenating over channel dimension\n",
        "class FeedForward(nn.Module):\n",
        "  \"\"\" a simple linear layer followed by a non-linearity \"\"\"\n",
        "\n",
        "  def __init__(self, n_embd):\n",
        "    super().__init__()\n",
        "    self.net = nn.Sequential(\n",
        "        nn.Linear(n_embd, n_embd),\n",
        "        nn.ReLU(),\n",
        "    )\n",
        "\n",
        "  def forward(self, x):\n",
        "    return self.net(x)\n",
        "\n",
        "class Block(nn.Module):\n",
        "  \"\"\" Transformer block: communication followed by computation\"\"\"\n",
        "\n",
        "  def __init__(self, n_embd, n_head):\n",
        "    # n_embd: embedding dimension\n",
        "    # n_head: the number of heads we'd like\n",
        "    super().__init__()\n",
        "    head_size = n_embd // n_head\n",
        "    self.sa = MultiHeadAttention(n_head, head_size)\n",
        "    self.ffwd = FeedForward(n_embd)\n",
        "\n",
        "  def forward(self, x):\n",
        "    x = self.sa(x)\n",
        "    x = self.ffwd(x)\n",
        "    return x\n",
        "\n",
        "class BigramLanguageModel(nn.Module):\n",
        "\n",
        "    def __init__(self):\n",
        "        super().__init__()\n",
        "        # each token directly reads off the logits for the next token from a lookup table\n",
        "        self.token_embedding_table = nn.Embedding(vocab_size, n_embd)\n",
        "        self.position_embedding_table = nn.Embedding(block_size, n_embd)\n",
        "        self.blocks = nn.Sequential(\n",
        "            Block(n_embd, n_head=4),\n",
        "            Block(n_embd, n_head=4),\n",
        "            Block(n_embd, n_head=4),\n",
        "        )\n",
        "        self.lm_head = nn.Linear(n_embd, vocab_size)\n",
        "\n",
        "    def forward(self, idx, targets=None):\n",
        "        B, T = idx.shape\n",
        "\n",
        "        # idx and targets are both (B,T) tensor of integers\n",
        "        tok_emb = self.token_embedding_table(idx) # (B,T,C)\n",
        "        pos_emb = self.position_embedding_table(torch.arange(T, device=device)) # (T,C)\n",
        "        x = tok_emb + pos_emb # (B,T,C)\n",
        "        # x = self.sa_head(x) # apply one head of self-attention (B,T,C)\n",
        "        # x = self.ffwd(x)\n",
        "        logits = self.lm_head(x) # (B,T,vocab_size)\n",
        "\n",
        "        if targets is None:\n",
        "            loss = None\n",
        "        else:\n",
        "            B, T, C = logits.shape\n",
        "            logits = logits.view(B*T, C)\n",
        "            targets = targets.view(B*T)\n",
        "            loss = F.cross_entropy(logits, targets)\n",
        "\n",
        "        return logits, loss\n",
        "\n",
        "    def generate(self, idx, max_new_tokens):\n",
        "        # idx is (B, T) array of indices in the current context\n",
        "        for _ in range(max_new_tokens):\n",
        "            # crop idx to the last block_size tokens\n",
        "            idx_cond = idx[:, -block_size:] # <----------- Cropping out index, because we use positional embedding\n",
        "            # get the predictions\n",
        "            logits, loss = self(idx_cond)\n",
        "            # focus only on the last time step\n",
        "            logits = logits[:, -1, :] # becomes (B, C)\n",
        "            # apply softmax to get probabilities\n",
        "            probs = F.softmax(logits, dim=-1) # (B, C)\n",
        "            # sample from the distribution\n",
        "            idx_next = torch.multinomial(probs, num_samples=1) # (B, 1)\n",
        "            # append sampled index to the running sequence\n",
        "            idx = torch.cat((idx, idx_next), dim=1) # (B, T+1)\n",
        "        return idx\n",
        "\n",
        "model = BigramLanguageModel()\n",
        "m = model.to(device)\n",
        "# print the number of parameters in the model\n",
        "print(sum(p.numel() for p in m.parameters())/1e6, 'M parameters')\n",
        "\n",
        "# create a PyTorch optimizer\n",
        "optimizer = torch.optim.AdamW(model.parameters(), lr=learning_rate)\n",
        "\n",
        "for iter in range(max_iters):\n",
        "\n",
        "    # every once in a while evaluate the loss on train and val sets\n",
        "    if iter % eval_interval == 0 or iter == max_iters - 1:\n",
        "        losses = estimate_loss()\n",
        "        print(f\"step {iter}: train loss {losses['train']:.4f}, val loss {losses['val']:.4f}\")\n",
        "\n",
        "    # sample a batch of data\n",
        "    xb, yb = get_batch('train')\n",
        "\n",
        "    # evaluate the loss\n",
        "    logits, loss = model(xb, yb)\n",
        "    optimizer.zero_grad(set_to_none=True)\n",
        "    loss.backward()\n",
        "    optimizer.step()\n",
        "\n",
        "# generate from the model\n",
        "context = torch.zeros((1, 1), dtype=torch.long, device=device)\n",
        "print(decode(m.generate(context, max_new_tokens=500)[0].tolist()))\n",
        "#open('more.txt', 'w').write(decode(m.generate(context, max_new_tokens=10000)[0].tolist()))"
      ],
      "metadata": {
        "id": "rHdV8-ESesA6",
        "colab": {
          "base_uri": "https://localhost:8080/"
        },
        "outputId": "e2091021-875d-4344-a523-80af370091d4"
      },
      "execution_count": null,
      "outputs": [
        {
          "output_type": "stream",
          "name": "stdout",
          "text": [
            "0.016865 M parameters\n",
            "step 0: train loss 4.5229, val loss 4.5218\n",
            "step 500: train loss 2.6974, val loss 2.7129\n",
            "step 1000: train loss 2.5573, val loss 2.5759\n",
            "step 1500: train loss 2.5149, val loss 2.5334\n",
            "step 2000: train loss 2.5124, val loss 2.5169\n",
            "step 2500: train loss 2.4960, val loss 2.5121\n",
            "step 3000: train loss 2.4787, val loss 2.5025\n",
            "step 3500: train loss 2.4754, val loss 2.4964\n",
            "step 4000: train loss 2.4777, val loss 2.4922\n",
            "step 4500: train loss 2.4655, val loss 2.4930\n",
            "step 4999: train loss 2.4684, val loss 2.4943\n",
            "\n",
            "Myoung. d par arot p ouck are\n",
            "GO rsef II ingupa arieize u.\n",
            "THithe XENI d.\n",
            "Pe SI ougithisedenth th gren bout waith the, l.\n",
            "A ilis.\n",
            "\n",
            "ORIUKE:\n",
            "Tha?\n",
            "Wharst ay.\n",
            "Fo---IAnd t tho witjur, anct w. turousar n t palletit, t nde 'sato'cge finompld be ma Vit r, f er be, marera iro veristen,\n",
            "Asthenfoupwathiew,\n",
            "An, ll healourd idshather dls ned d hil' t s. aren w idrTI thes murd;\n",
            "CLe whayethe ngo ldrourn EAse far'ssee pindeane! t y rerrs cu Istheoug Rougr hive, t owivend cimy wes beshth,\n",
            "SLe w, Y fisonkt od ire\n"
          ]
        }
      ]
    },
    {
      "cell_type": "markdown",
      "source": [
        "## Residual Connections"
      ],
      "metadata": {
        "id": "bdvtX4d5gjdU"
      }
    },
    {
      "cell_type": "code",
      "source": [
        "import torch\n",
        "import torch.nn as nn\n",
        "from torch.nn import functional as F\n",
        "\n",
        "# hyperparameters\n",
        "batch_size = 64 # how many independent sequences will we process in parallel?\n",
        "block_size = 8 # what is the maximum context length for predictions?\n",
        "max_iters = 5000\n",
        "eval_interval = 500\n",
        "learning_rate = 1e-3\n",
        "device = 'cuda' if torch.cuda.is_available() else 'cpu'\n",
        "eval_iters = 200\n",
        "\n",
        "\n",
        "torch.manual_seed(1337)\n",
        "\n",
        "# wget https://raw.githubusercontent.com/karpathy/char-rnn/master/data/tinyshakespeare/input.txt\n",
        "with open('input.txt', 'r', encoding='utf-8') as f:\n",
        "    text = f.read()\n",
        "\n",
        "# here are all the unique characters that occur in this text\n",
        "chars = sorted(list(set(text)))\n",
        "vocab_size = len(chars)\n",
        "# create a mapping from characters to integers\n",
        "stoi = { ch:i for i,ch in enumerate(chars) }\n",
        "itos = { i:ch for i,ch in enumerate(chars) }\n",
        "encode = lambda s: [stoi[c] for c in s] # encoder: take a string, output a list of integers\n",
        "decode = lambda l: ''.join([itos[i] for i in l]) # decoder: take a list of integers, output a string\n",
        "\n",
        "# Train and test splits\n",
        "data = torch.tensor(encode(text), dtype=torch.long)\n",
        "n = int(0.9*len(data)) # first 90% will be train, rest val\n",
        "train_data = data[:n]\n",
        "val_data = data[n:]\n",
        "\n",
        "# data loading\n",
        "def get_batch(split):\n",
        "    # generate a small batch of data of inputs x and targets y\n",
        "    data = train_data if split == 'train' else val_data\n",
        "    ix = torch.randint(len(data) - block_size, (batch_size,))\n",
        "    x = torch.stack([data[i:i+block_size] for i in ix])\n",
        "    y = torch.stack([data[i+1:i+block_size+1] for i in ix])\n",
        "    x, y = x.to(device), y.to(device)\n",
        "    return x, y\n",
        "\n",
        "@torch.no_grad()\n",
        "def estimate_loss():\n",
        "    out = {}\n",
        "    model.eval()\n",
        "    for split in ['train', 'val']:\n",
        "        losses = torch.zeros(eval_iters)\n",
        "        for k in range(eval_iters):\n",
        "            X, Y = get_batch(split)\n",
        "            logits, loss = model(X, Y)\n",
        "            losses[k] = loss.item()\n",
        "        out[split] = losses.mean()\n",
        "    model.train()\n",
        "    return out\n",
        "\n",
        "# Created Head Module\n",
        "class Head(nn.Module):\n",
        "    \"\"\" one head of self-attention \"\"\"\n",
        "\n",
        "    def __init__(self, head_size):\n",
        "        super().__init__()\n",
        "        # --------------------------------------------------------------------------\n",
        "        # Initializing key, query, value, and torch.tril()\n",
        "        # --------------------------------------------------------------------------\n",
        "        self.key = nn.Linear(n_embd, head_size, bias=False)\n",
        "        self.query = nn.Linear(n_embd, head_size, bias=False)\n",
        "        self.value = nn.Linear(n_embd, head_size, bias=False)\n",
        "        self.register_buffer('tril', torch.tril(torch.ones(block_size, block_size)))\n",
        "        # --------------------------------------------------------------------------\n",
        "\n",
        "    def forward(self, x):\n",
        "        # input of size (batch, time-step, channels)\n",
        "        # output of size (batch, time-step, head size)\n",
        "        B,T,C = x.shape\n",
        "        k = self.key(x)   # (B,T,C)\n",
        "        q = self.query(x) # (B,T,C)\n",
        "        # compute attention scores (\"affinities\")\n",
        "        wei = q @ k.transpose(-2,-1) * C**-0.5 # (B, T, C) @ (B, C, T) -> (B, T, T)\n",
        "        wei = wei.masked_fill(self.tril[:T, :T] == 0, float('-inf')) # (B, T, T)\n",
        "        wei = F.softmax(wei, dim=-1) # (B, T, T)\n",
        "        # perform the weighted aggregation of the values\n",
        "        v = self.value(x) # (B,T,hs)\n",
        "        out = wei @ v # (B, T, T) @ (B, T, hs) -> (B, T, hs)\n",
        "        return out\n",
        "\n",
        "class MultiHeadAttention(nn.Module):\n",
        "  \"\"\" multiple heads of self-attention in parallel\"\"\"\n",
        "\n",
        "  def __init__(self, num_heads, head_size):\n",
        "    super().__init__()\n",
        "    self.heads = nn.ModuleList([Head(head_size) for _ in range(num_heads)])\n",
        "    self.proj = nn.Linear(n_embd, n_embd) # <--------- Projection, simple linear layer\n",
        "\n",
        "  def forward(self, x):\n",
        "    out = torch.cat([h(x) for h in self.heads], dim=-1)\n",
        "    out = self.proj(out) # <--------\n",
        "    return out\n",
        "    # concatenating over channel dimension\n",
        "\n",
        "class FeedForward(nn.Module):\n",
        "  \"\"\" a simple linear layer followed by a non-linearity \"\"\"\n",
        "\n",
        "  def __init__(self, n_embd):\n",
        "    super().__init__()\n",
        "    self.net = nn.Sequential(\n",
        "        nn.Linear(n_embd, n_embd),\n",
        "        nn.ReLU(),\n",
        "        nn.Linear(n_embd, n_embd),\n",
        "    )\n",
        "\n",
        "  def forward(self, x):\n",
        "    return self.next(x)\n",
        "\n",
        "class Block(nn.Module):\n",
        "  \"\"\" Transformer block: communication followed by computation\"\"\"\n",
        "\n",
        "  def __init__(self, n_embd, n_head):\n",
        "    # n_embd: embedding dimension\n",
        "    # n_head: the number of heads we'd like\n",
        "    super().__init__()\n",
        "    head_size = n_embd // n_head\n",
        "    self.sa = MultiHeadAttention(n_head, head_size)\n",
        "    self.ffwd = FeedForward(n_embd)\n",
        "\n",
        "  def forward(self, x):\n",
        "    # x = self.sa(x)\n",
        "    # x = self.ffwd(x)\n",
        "    x = x + self.sa(x)  # <-------- Residual\n",
        "    x = x + self.ffwd(x)\n",
        "    return x\n",
        "\n",
        "class BigramLanguageModel(nn.Module):\n",
        "\n",
        "    def __init__(self):\n",
        "        super().__init__()\n",
        "        # each token directly reads off the logits for the next token from a lookup table\n",
        "        self.token_embedding_table = nn.Embedding(vocab_size, n_embd)\n",
        "        self.position_embedding_table = nn.Embedding(block_size, n_embd)\n",
        "        self.blocks = nn.Sequential(\n",
        "            Block(n_embd, n_head=4),\n",
        "            Block(n_embd, n_head=4),\n",
        "            Block(n_embd, n_head=4),\n",
        "        )\n",
        "        self.lm_head = nn.Linear(n_embd, vocab_size)\n",
        "\n",
        "    def forward(self, idx, targets=None):\n",
        "        B, T = idx.shape\n",
        "\n",
        "        # idx and targets are both (B,T) tensor of integers\n",
        "        tok_emb = self.token_embedding_table(idx) # (B,T,C)\n",
        "        pos_emb = self.position_embedding_table(torch.arange(T, device=device)) # (T,C)\n",
        "        x = tok_emb + pos_emb # (B,T,C)\n",
        "        # x = self.sa_head(x) # apply one head of self-attention (B,T,C)\n",
        "        # x = self.ffwd(x)\n",
        "        logits = self.lm_head(x) # (B,T,vocab_size)\n",
        "\n",
        "        if targets is None:\n",
        "            loss = None\n",
        "        else:\n",
        "            B, T, C = logits.shape\n",
        "            logits = logits.view(B*T, C)\n",
        "            targets = targets.view(B*T)\n",
        "            loss = F.cross_entropy(logits, targets)\n",
        "\n",
        "        return logits, loss\n",
        "\n",
        "    def generate(self, idx, max_new_tokens):\n",
        "        # idx is (B, T) array of indices in the current context\n",
        "        for _ in range(max_new_tokens):\n",
        "            # crop idx to the last block_size tokens\n",
        "            idx_cond = idx[:, -block_size:] # <----------- Cropping out index, because we use positional embedding\n",
        "            # get the predictions\n",
        "            logits, loss = self(idx_cond)\n",
        "            # focus only on the last time step\n",
        "            logits = logits[:, -1, :] # becomes (B, C)\n",
        "            # apply softmax to get probabilities\n",
        "            probs = F.softmax(logits, dim=-1) # (B, C)\n",
        "            # sample from the distribution\n",
        "            idx_next = torch.multinomial(probs, num_samples=1) # (B, 1)\n",
        "            # append sampled index to the running sequence\n",
        "            idx = torch.cat((idx, idx_next), dim=1) # (B, T+1)\n",
        "        return idx\n",
        "\n",
        "model = BigramLanguageModel()\n",
        "m = model.to(device)\n",
        "# print the number of parameters in the model\n",
        "print(sum(p.numel() for p in m.parameters())/1e6, 'M parameters')\n",
        "\n",
        "# create a PyTorch optimizer\n",
        "optimizer = torch.optim.AdamW(model.parameters(), lr=learning_rate)\n",
        "\n",
        "for iter in range(max_iters):\n",
        "\n",
        "    # every once in a while evaluate the loss on train and val sets\n",
        "    if iter % eval_interval == 0 or iter == max_iters - 1:\n",
        "        losses = estimate_loss()\n",
        "        print(f\"step {iter}: train loss {losses['train']:.4f}, val loss {losses['val']:.4f}\")\n",
        "\n",
        "    # sample a batch of data\n",
        "    xb, yb = get_batch('train')\n",
        "\n",
        "    # evaluate the loss\n",
        "    logits, loss = model(xb, yb)\n",
        "    optimizer.zero_grad(set_to_none=True)\n",
        "    loss.backward()\n",
        "    optimizer.step()\n",
        "\n",
        "# generate from the model\n",
        "context = torch.zeros((1, 1), dtype=torch.long, device=device)\n",
        "print(decode(m.generate(context, max_new_tokens=500)[0].tolist()))\n",
        "#open('more.txt', 'w').write(decode(m.generate(context, max_new_tokens=10000)[0].tolist()))"
      ],
      "metadata": {
        "id": "1fNFfpzZgkWN",
        "colab": {
          "base_uri": "https://localhost:8080/"
        },
        "outputId": "eda54640-85e4-4577-ffd1-48a4eb031502"
      },
      "execution_count": null,
      "outputs": [
        {
          "output_type": "stream",
          "name": "stdout",
          "text": [
            "0.023201 M parameters\n",
            "step 0: train loss 4.5071, val loss 4.5087\n",
            "step 500: train loss 2.7043, val loss 2.7290\n",
            "step 1000: train loss 2.5638, val loss 2.5813\n",
            "step 1500: train loss 2.5165, val loss 2.5311\n",
            "step 2000: train loss 2.5137, val loss 2.5175\n",
            "step 2500: train loss 2.4981, val loss 2.5119\n",
            "step 3000: train loss 2.4807, val loss 2.5007\n",
            "step 3500: train loss 2.4851, val loss 2.4962\n",
            "step 4000: train loss 2.4769, val loss 2.4927\n",
            "step 4500: train loss 2.4656, val loss 2.4938\n",
            "step 4999: train loss 2.4674, val loss 2.4960\n",
            "\n",
            "\n",
            "\n",
            "Forounoraipy. wiueat anthis thy be e d tipinve seche s iim roun ouborsumy IEShiglie bin, d:\n",
            "Has! st bu I'sout,\n",
            "HUKOUSBRLones. ghe we, fouthlillof a banet mory tserd amulyorthave qurven ove se howerd bre r thit ith ve!\n",
            "I thit hiong thath ceerd dy, Leayeat ot moict hey y tinor f shalongur, arnsp tuprm, thoy t holldubee weld; un mowin, wbat h's ct, prds oris t ge k, s m bl'dsest;\n",
            "Tht shatopros\n",
            "\n",
            "D re malor Et knd t bor ton t yend d h'dere.\n",
            "\n",
            "Comed wakan;\n",
            "\n",
            "LIZAne nat woven ghame beagrof we!\n",
            "C\n",
            "Whthie\n"
          ]
        }
      ]
    },
    {
      "cell_type": "markdown",
      "source": [
        "## Feed Forward Extra"
      ],
      "metadata": {
        "id": "WlZUBN9OhPmP"
      }
    },
    {
      "cell_type": "markdown",
      "source": [
        "![image.png](data:image/png;base64,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)"
      ],
      "metadata": {
        "id": "jxb9f6wHiXLY"
      }
    },
    {
      "cell_type": "code",
      "source": [
        "import torch\n",
        "import torch.nn as nn\n",
        "from torch.nn import functional as F\n",
        "\n",
        "# hyperparameters\n",
        "batch_size = 64 # how many independent sequences will we process in parallel?\n",
        "block_size = 8 # what is the maximum context length for predictions?\n",
        "max_iters = 30000\n",
        "eval_interval = 500\n",
        "learning_rate = 1e-3\n",
        "device = 'cuda' if torch.cuda.is_available() else 'cpu'\n",
        "eval_iters = 200\n",
        "\n",
        "\n",
        "torch.manual_seed(1337)\n",
        "\n",
        "# wget https://raw.githubusercontent.com/karpathy/char-rnn/master/data/tinyshakespeare/input.txt\n",
        "with open('input.txt', 'r', encoding='utf-8') as f:\n",
        "    text = f.read()\n",
        "\n",
        "# here are all the unique characters that occur in this text\n",
        "chars = sorted(list(set(text)))\n",
        "vocab_size = len(chars)\n",
        "# create a mapping from characters to integers\n",
        "stoi = { ch:i for i,ch in enumerate(chars) }\n",
        "itos = { i:ch for i,ch in enumerate(chars) }\n",
        "encode = lambda s: [stoi[c] for c in s] # encoder: take a string, output a list of integers\n",
        "decode = lambda l: ''.join([itos[i] for i in l]) # decoder: take a list of integers, output a string\n",
        "\n",
        "# Train and test splits\n",
        "data = torch.tensor(encode(text), dtype=torch.long)\n",
        "n = int(0.9*len(data)) # first 90% will be train, rest val\n",
        "train_data = data[:n]\n",
        "val_data = data[n:]\n",
        "\n",
        "# data loading\n",
        "def get_batch(split):\n",
        "    # generate a small batch of data of inputs x and targets y\n",
        "    data = train_data if split == 'train' else val_data\n",
        "    ix = torch.randint(len(data) - block_size, (batch_size,))\n",
        "    x = torch.stack([data[i:i+block_size] for i in ix])\n",
        "    y = torch.stack([data[i+1:i+block_size+1] for i in ix])\n",
        "    x, y = x.to(device), y.to(device)\n",
        "    return x, y\n",
        "\n",
        "@torch.no_grad()\n",
        "def estimate_loss():\n",
        "    out = {}\n",
        "    model.eval()\n",
        "    for split in ['train', 'val']:\n",
        "        losses = torch.zeros(eval_iters)\n",
        "        for k in range(eval_iters):\n",
        "            X, Y = get_batch(split)\n",
        "            logits, loss = model(X, Y)\n",
        "            losses[k] = loss.item()\n",
        "        out[split] = losses.mean()\n",
        "    model.train()\n",
        "    return out\n",
        "\n",
        "# Created Head Module\n",
        "class Head(nn.Module):\n",
        "    \"\"\" one head of self-attention \"\"\"\n",
        "\n",
        "    def __init__(self, head_size):\n",
        "        super().__init__()\n",
        "        # --------------------------------------------------------------------------\n",
        "        # Initializing key, query, value, and torch.tril()\n",
        "        # --------------------------------------------------------------------------\n",
        "        self.key = nn.Linear(n_embd, head_size, bias=False)\n",
        "        self.query = nn.Linear(n_embd, head_size, bias=False)\n",
        "        self.value = nn.Linear(n_embd, head_size, bias=False)\n",
        "        self.register_buffer('tril', torch.tril(torch.ones(block_size, block_size)))\n",
        "        # --------------------------------------------------------------------------\n",
        "\n",
        "    def forward(self, x):\n",
        "        # input of size (batch, time-step, channels)\n",
        "        # output of size (batch, time-step, head size)\n",
        "        B,T,C = x.shape\n",
        "        k = self.key(x)   # (B,T,C)\n",
        "        q = self.query(x) # (B,T,C)\n",
        "        # compute attention scores (\"affinities\")\n",
        "        wei = q @ k.transpose(-2,-1) * C**-0.5 # (B, T, C) @ (B, C, T) -> (B, T, T)\n",
        "        wei = wei.masked_fill(self.tril[:T, :T] == 0, float('-inf')) # (B, T, T)\n",
        "        wei = F.softmax(wei, dim=-1) # (B, T, T)\n",
        "        # perform the weighted aggregation of the values\n",
        "        v = self.value(x) # (B,T,hs)\n",
        "        out = wei @ v # (B, T, T) @ (B, T, hs) -> (B, T, hs)\n",
        "        return out\n",
        "\n",
        "class MultiHeadAttention(nn.Module):\n",
        "  \"\"\" multiple heads of self-attention in parallel\"\"\"\n",
        "\n",
        "  def __init__(self, num_heads, head_size):\n",
        "    super().__init__()\n",
        "    self.heads = nn.ModuleList([Head(head_size) for _ in range(num_heads)])\n",
        "    self.proj = nn.Linear(n_embd, n_embd) # <--------- Projection, simple linear layer\n",
        "\n",
        "  def forward(self, x):\n",
        "    out = torch.cat([h(x) for h in self.heads], dim=-1)\n",
        "    out = self.proj(out) # <--------\n",
        "    return out\n",
        "    # concatenating over channel dimension\n",
        "\n",
        "class FeedForward(nn.Module):\n",
        "  \"\"\" a simple linear layer followed by a non-linearity \"\"\"\n",
        "\n",
        "  def __init__(self, n_embd):\n",
        "    super().__init__()\n",
        "    self.net = nn.Sequential(\n",
        "        nn.Linear(n_embd, 4 * n_embd),\n",
        "        nn.ReLU(),\n",
        "        nn.Linear(4 * n_embd, n_embd),\n",
        "    )\n",
        "\n",
        "  def forward(self, x):\n",
        "    return self.next(x)\n",
        "\n",
        "class Block(nn.Module):\n",
        "  \"\"\" Transformer block: communication followed by computation\"\"\"\n",
        "\n",
        "  def __init__(self, n_embd, n_head):\n",
        "    # n_embd: embedding dimension\n",
        "    # n_head: the number of heads we'd like\n",
        "    super().__init__()\n",
        "    head_size = n_embd // n_head\n",
        "    self.sa = MultiHeadAttention(n_head, head_size)\n",
        "    self.ffwd = FeedForward(n_embd)\n",
        "\n",
        "  def forward(self, x):\n",
        "    # x = self.sa(x)\n",
        "    # x = self.ffwd(x)\n",
        "    x = x + self.sa(x)  # <-------- Residual\n",
        "    x = x + self.ffwd(x)\n",
        "    return x\n",
        "\n",
        "class BigramLanguageModel(nn.Module):\n",
        "\n",
        "    def __init__(self):\n",
        "        super().__init__()\n",
        "        # each token directly reads off the logits for the next token from a lookup table\n",
        "        self.token_embedding_table = nn.Embedding(vocab_size, n_embd)\n",
        "        self.position_embedding_table = nn.Embedding(block_size, n_embd)\n",
        "        self.blocks = nn.Sequential(\n",
        "            Block(n_embd, n_head=4),\n",
        "            Block(n_embd, n_head=4),\n",
        "            Block(n_embd, n_head=4),\n",
        "        )\n",
        "        self.lm_head = nn.Linear(n_embd, vocab_size)\n",
        "\n",
        "\n",
        "    def forward(self, idx, targets=None):\n",
        "        B, T = idx.shape\n",
        "\n",
        "        # idx and targets are both (B,T) tensor of integers\n",
        "        tok_emb = self.token_embedding_table(idx) # (B,T,C)\n",
        "        pos_emb = self.position_embedding_table(torch.arange(T, device=device)) # (T,C)\n",
        "        x = tok_emb + pos_emb # (B,T,C)\n",
        "        # x = self.sa_head(x) # apply one head of self-attention (B,T,C)\n",
        "        # x = self.ffwd(x)\n",
        "        logits = self.lm_head(x) # (B,T,vocab_size)\n",
        "\n",
        "        if targets is None:\n",
        "            loss = None\n",
        "        else:\n",
        "            B, T, C = logits.shape\n",
        "            logits = logits.view(B*T, C)\n",
        "            targets = targets.view(B*T)\n",
        "            loss = F.cross_entropy(logits, targets)\n",
        "\n",
        "        return logits, loss\n",
        "\n",
        "    def generate(self, idx, max_new_tokens):\n",
        "        # idx is (B, T) array of indices in the current context\n",
        "        for _ in range(max_new_tokens):\n",
        "            # crop idx to the last block_size tokens\n",
        "            idx_cond = idx[:, -block_size:] # <----------- Cropping out index, because we use positional embedding\n",
        "            # get the predictions\n",
        "            logits, loss = self(idx_cond)\n",
        "            # focus only on the last time step\n",
        "            logits = logits[:, -1, :] # becomes (B, C)\n",
        "            # apply softmax to get probabilities\n",
        "            probs = F.softmax(logits, dim=-1) # (B, C)\n",
        "            # sample from the distribution\n",
        "            idx_next = torch.multinomial(probs, num_samples=1) # (B, 1)\n",
        "            # append sampled index to the running sequence\n",
        "            idx = torch.cat((idx, idx_next), dim=1) # (B, T+1)\n",
        "        return idx\n",
        "\n",
        "model = BigramLanguageModel()\n",
        "m = model.to(device)\n",
        "# print the number of parameters in the model\n",
        "print(sum(p.numel() for p in m.parameters())/1e6, 'M parameters')\n",
        "\n",
        "# create a PyTorch optimizer\n",
        "optimizer = torch.optim.AdamW(model.parameters(), lr=learning_rate)\n",
        "\n",
        "for iter in range(max_iters):\n",
        "\n",
        "    # every once in a while evaluate the loss on train and val sets\n",
        "    if iter % eval_interval == 0 or iter == max_iters - 1:\n",
        "        losses = estimate_loss()\n",
        "        print(f\"step {iter}: train loss {losses['train']:.4f}, val loss {losses['val']:.4f}\")\n",
        "\n",
        "    # sample a batch of data\n",
        "    xb, yb = get_batch('train')\n",
        "\n",
        "    # evaluate the loss\n",
        "    logits, loss = model(xb, yb)\n",
        "    optimizer.zero_grad(set_to_none=True)\n",
        "    loss.backward()\n",
        "    optimizer.step()\n",
        "\n",
        "# generate from the model\n",
        "context = torch.zeros((1, 1), dtype=torch.long, device=device)\n",
        "print(decode(m.generate(context, max_new_tokens=500)[0].tolist()))\n",
        "#open('more.txt', 'w').write(decode(m.generate(context, max_new_tokens=10000)[0].tolist()))"
      ],
      "metadata": {
        "id": "soAhpU1piW72",
        "colab": {
          "base_uri": "https://localhost:8080/"
        },
        "outputId": "7c1303ac-e019-4509-e830-647ebfc7f753"
      },
      "execution_count": null,
      "outputs": [
        {
          "output_type": "stream",
          "name": "stdout",
          "text": [
            "0.041921 M parameters\n",
            "step 0: train loss 4.4835, val loss 4.4927\n",
            "step 500: train loss 2.6955, val loss 2.7145\n",
            "step 1000: train loss 2.5586, val loss 2.5673\n",
            "step 1500: train loss 2.5179, val loss 2.5366\n",
            "step 2000: train loss 2.4984, val loss 2.5124\n",
            "step 2500: train loss 2.4914, val loss 2.4986\n",
            "step 3000: train loss 2.4798, val loss 2.4904\n",
            "step 3500: train loss 2.4810, val loss 2.4829\n",
            "step 4000: train loss 2.4784, val loss 2.4904\n",
            "step 4500: train loss 2.4708, val loss 2.4942\n",
            "step 5000: train loss 2.4686, val loss 2.4941\n",
            "step 5500: train loss 2.4657, val loss 2.4855\n",
            "step 6000: train loss 2.4644, val loss 2.4833\n",
            "step 6500: train loss 2.4708, val loss 2.4923\n",
            "step 7000: train loss 2.4606, val loss 2.4930\n",
            "step 7500: train loss 2.4656, val loss 2.4898\n",
            "step 8000: train loss 2.4673, val loss 2.4884\n",
            "step 8500: train loss 2.4671, val loss 2.4763\n",
            "step 9000: train loss 2.4623, val loss 2.4788\n",
            "step 9500: train loss 2.4660, val loss 2.4812\n",
            "step 10000: train loss 2.4603, val loss 2.4889\n",
            "step 10500: train loss 2.4625, val loss 2.4859\n",
            "step 11000: train loss 2.4623, val loss 2.4861\n",
            "step 11500: train loss 2.4631, val loss 2.4863\n",
            "step 12000: train loss 2.4643, val loss 2.4817\n",
            "step 12500: train loss 2.4588, val loss 2.4860\n",
            "step 13000: train loss 2.4620, val loss 2.4864\n",
            "step 13500: train loss 2.4598, val loss 2.4834\n",
            "step 14000: train loss 2.4662, val loss 2.4860\n",
            "step 14500: train loss 2.4665, val loss 2.4850\n",
            "step 15000: train loss 2.4615, val loss 2.4903\n",
            "step 15500: train loss 2.4582, val loss 2.4832\n",
            "step 16000: train loss 2.4557, val loss 2.4886\n",
            "step 16500: train loss 2.4638, val loss 2.4804\n",
            "step 17000: train loss 2.4521, val loss 2.4887\n",
            "step 17500: train loss 2.4606, val loss 2.4877\n",
            "step 18000: train loss 2.4586, val loss 2.4921\n",
            "step 18500: train loss 2.4601, val loss 2.4796\n",
            "step 19000: train loss 2.4632, val loss 2.4882\n",
            "step 19500: train loss 2.4627, val loss 2.4803\n",
            "step 20000: train loss 2.4627, val loss 2.4807\n",
            "step 20500: train loss 2.4564, val loss 2.4871\n",
            "step 21000: train loss 2.4557, val loss 2.4845\n",
            "step 21500: train loss 2.4670, val loss 2.4812\n",
            "step 22000: train loss 2.4583, val loss 2.4833\n",
            "step 22500: train loss 2.4555, val loss 2.4862\n",
            "step 23000: train loss 2.4587, val loss 2.4805\n",
            "step 23500: train loss 2.4668, val loss 2.4895\n",
            "step 24000: train loss 2.4584, val loss 2.4933\n",
            "step 24500: train loss 2.4593, val loss 2.4863\n",
            "step 25000: train loss 2.4517, val loss 2.4873\n",
            "step 25500: train loss 2.4640, val loss 2.4838\n",
            "step 26000: train loss 2.4624, val loss 2.4866\n",
            "step 26500: train loss 2.4622, val loss 2.4825\n",
            "step 27000: train loss 2.4582, val loss 2.4859\n",
            "step 27500: train loss 2.4608, val loss 2.4836\n",
            "step 28000: train loss 2.4642, val loss 2.4842\n",
            "step 28500: train loss 2.4597, val loss 2.4867\n",
            "step 29000: train loss 2.4486, val loss 2.4811\n",
            "step 29500: train loss 2.4572, val loss 2.4862\n",
            "step 29999: train loss 2.4563, val loss 2.4810\n",
            "\n",
            "heret tinoan! liteldes homu?\n",
            "\n",
            "Beyowhirdonthe'd, d wize o n he ma cout tl, ayoF heligod to ounio hasan d ak:\n",
            "tothenou y;\n",
            "whothe tt, youlliblordige,\n",
            "Hatee:\n",
            "Aneik' t te arer heras, llithee brser n iltouren:\n",
            "arith nokin herithef ue y.\n",
            "LORYo em, po yabeeave; THA:\n",
            "H:\n",
            "\n",
            "ilal, sce INGiowe d bus Pstser.\n",
            "\n",
            "Thin,\n",
            "\n",
            "CHas d m, IOFoverenfichonaver beathor, t ye 'd ton po Murs tot,\n",
            "tavin tharstomatiou thaterowereatlounshef.\n",
            "I omeis t, bond tewisthenor m t thon e s LEd thay t, mo wised gn, tofre thol my,\n",
            "\n",
            "\n",
            "TIORITh\n"
          ]
        }
      ]
    },
    {
      "cell_type": "markdown",
      "source": [
        "## Layer Norm"
      ],
      "metadata": {
        "id": "XuEATUMcqIxY"
      }
    },
    {
      "cell_type": "code",
      "source": [
        "import torch\n",
        "import torch.nn as nn\n",
        "from torch.nn import functional as F\n",
        "\n",
        "# hyperparameters\n",
        "batch_size = 64 # how many independent sequences will we process in parallel?\n",
        "block_size = 8 # what is the maximum context length for predictions?\n",
        "max_iters = 30000\n",
        "eval_interval = 500\n",
        "learning_rate = 1e-3\n",
        "device = 'cuda' if torch.cuda.is_available() else 'cpu'\n",
        "eval_iters = 200\n",
        "n_embd = 4\n",
        "\n",
        "torch.manual_seed(1337)\n",
        "\n",
        "# wget https://raw.githubusercontent.com/karpathy/char-rnn/master/data/tinyshakespeare/input.txt\n",
        "with open('input.txt', 'r', encoding='utf-8') as f:\n",
        "    text = f.read()\n",
        "\n",
        "# here are all the unique characters that occur in this text\n",
        "chars = sorted(list(set(text)))\n",
        "vocab_size = len(chars)\n",
        "# create a mapping from characters to integers\n",
        "stoi = { ch:i for i,ch in enumerate(chars) }\n",
        "itos = { i:ch for i,ch in enumerate(chars) }\n",
        "encode = lambda s: [stoi[c] for c in s] # encoder: take a string, output a list of integers\n",
        "decode = lambda l: ''.join([itos[i] for i in l]) # decoder: take a list of integers, output a string\n",
        "\n",
        "# Train and test splits\n",
        "data = torch.tensor(encode(text), dtype=torch.long)\n",
        "n = int(0.9*len(data)) # first 90% will be train, rest val\n",
        "train_data = data[:n]\n",
        "val_data = data[n:]\n",
        "\n",
        "# data loading\n",
        "def get_batch(split):\n",
        "    # generate a small batch of data of inputs x and targets y\n",
        "    data = train_data if split == 'train' else val_data\n",
        "    ix = torch.randint(len(data) - block_size, (batch_size,))\n",
        "    x = torch.stack([data[i:i+block_size] for i in ix])\n",
        "    y = torch.stack([data[i+1:i+block_size+1] for i in ix])\n",
        "    x, y = x.to(device), y.to(device)\n",
        "    return x, y\n",
        "\n",
        "@torch.no_grad()\n",
        "def estimate_loss():\n",
        "    out = {}\n",
        "    model.eval()\n",
        "    for split in ['train', 'val']:\n",
        "        losses = torch.zeros(eval_iters)\n",
        "        for k in range(eval_iters):\n",
        "            X, Y = get_batch(split)\n",
        "            logits, loss = model(X, Y)\n",
        "            losses[k] = loss.item()\n",
        "        out[split] = losses.mean()\n",
        "    model.train()\n",
        "    return out\n",
        "\n",
        "# Created Head Module\n",
        "class Head(nn.Module):\n",
        "    \"\"\" one head of self-attention \"\"\"\n",
        "\n",
        "    def __init__(self, head_size):\n",
        "        super().__init__()\n",
        "        # --------------------------------------------------------------------------\n",
        "        # Initializing key, query, value, and torch.tril()\n",
        "        # --------------------------------------------------------------------------\n",
        "        self.key = nn.Linear(n_embd, head_size, bias=False)\n",
        "        self.query = nn.Linear(n_embd, head_size, bias=False)\n",
        "        self.value = nn.Linear(n_embd, head_size, bias=False)\n",
        "        self.register_buffer('tril', torch.tril(torch.ones(block_size, block_size)))\n",
        "        # --------------------------------------------------------------------------\n",
        "\n",
        "    def forward(self, x):\n",
        "        # input of size (batch, time-step, channels)\n",
        "        # output of size (batch, time-step, head size)\n",
        "        B,T,C = x.shape\n",
        "        k = self.key(x)   # (B,T,C)\n",
        "        q = self.query(x) # (B,T,C)\n",
        "        # compute attention scores (\"affinities\")\n",
        "        wei = q @ k.transpose(-2,-1) * C**-0.5 # (B, T, C) @ (B, C, T) -> (B, T, T)\n",
        "        wei = wei.masked_fill(self.tril[:T, :T] == 0, float('-inf')) # (B, T, T)\n",
        "        wei = F.softmax(wei, dim=-1) # (B, T, T)\n",
        "        # perform the weighted aggregation of the values\n",
        "        v = self.value(x) # (B,T,hs)\n",
        "        out = wei @ v # (B, T, T) @ (B, T, hs) -> (B, T, hs)\n",
        "        return out\n",
        "\n",
        "class MultiHeadAttention(nn.Module):\n",
        "  \"\"\" multiple heads of self-attention in parallel\"\"\"\n",
        "\n",
        "  def __init__(self, num_heads, head_size):\n",
        "    super().__init__()\n",
        "    self.heads = nn.ModuleList([Head(head_size) for _ in range(num_heads)])\n",
        "    self.proj = nn.Linear(n_embd, n_embd) # <--------- Projection, simple linear layer\n",
        "\n",
        "  def forward(self, x):\n",
        "    out = torch.cat([h(x) for h in self.heads], dim=-1)\n",
        "    out = self.proj(out) # <--------\n",
        "    return out\n",
        "    # concatenating over channel dimension\n",
        "\n",
        "class FeedForward(nn.Module):\n",
        "  \"\"\" a simple linear layer followed by a non-linearity \"\"\"\n",
        "\n",
        "  def __init__(self, n_embd):\n",
        "    super().__init__()\n",
        "    self.net = nn.Sequential(\n",
        "        nn.Linear(n_embd, 4 * n_embd),\n",
        "        nn.ReLU(),\n",
        "        nn.Linear(4 * n_embd, n_embd),\n",
        "    )\n",
        "\n",
        "  def forward(self, x):\n",
        "    return self.next(x)\n",
        "\n",
        "class Block(nn.Module):\n",
        "  \"\"\" Transformer block: communication followed by computation\"\"\"\n",
        "\n",
        "  def __init__(self, n_embd, n_head):\n",
        "    # n_embd: embedding dimension\n",
        "    # n_head: the number of heads we'd like\n",
        "    super().__init__()\n",
        "    head_size = n_embd // n_head\n",
        "    self.sa = MultiHeadAttention(n_head, head_size)\n",
        "    self.ffwd = FeedForward(n_embd)\n",
        "    self.ln1 = nn.LayerNorm(n_embd) # <-------- Layer Norm\n",
        "    self.ln2 = nn.LayerNorm(n_embd)\n",
        "\n",
        "  def forward(self, x):\n",
        "    # x = self.sa(x)\n",
        "    # x = self.ffwd(x)\n",
        "    x = x + self.sa((self.ln1(x))) # <------- Apply Layer Norm\n",
        "    x = x + self.ffwd((self.ln2(x)))\n",
        "    return x\n",
        "\n",
        "class BigramLanguageModel(nn.Module):\n",
        "\n",
        "    def __init__(self):\n",
        "        super().__init__()\n",
        "        # each token directly reads off the logits for the next token from a lookup table\n",
        "        self.token_embedding_table = nn.Embedding(vocab_size, n_embd)\n",
        "        self.position_embedding_table = nn.Embedding(block_size, n_embd)\n",
        "        self.blocks = nn.Sequential(\n",
        "            Block(n_embd, n_head=4),\n",
        "            Block(n_embd, n_head=4),\n",
        "            Block(n_embd, n_head=4),\n",
        "            nn.LayerNorm(n_embd), # <----- Layer Norm\n",
        "        )\n",
        "        self.lm_head = nn.Linear(n_embd, vocab_size)\n",
        "\n",
        "\n",
        "    def forward(self, idx, targets=None):\n",
        "        B, T = idx.shape\n",
        "\n",
        "        # idx and targets are both (B,T) tensor of integers\n",
        "        tok_emb = self.token_embedding_table(idx) # (B,T,C)\n",
        "        pos_emb = self.position_embedding_table(torch.arange(T, device=device)) # (T,C)\n",
        "        x = tok_emb + pos_emb # (B,T,C)\n",
        "        # x = self.sa_head(x) # apply one head of self-attention (B,T,C)\n",
        "        # x = self.ffwd(x)\n",
        "        logits = self.lm_head(x) # (B,T,vocab_size)\n",
        "\n",
        "        if targets is None:\n",
        "            loss = None\n",
        "        else:\n",
        "            B, T, C = logits.shape\n",
        "            logits = logits.view(B*T, C)\n",
        "            targets = targets.view(B*T)\n",
        "            loss = F.cross_entropy(logits, targets)\n",
        "\n",
        "        return logits, loss\n",
        "\n",
        "    def generate(self, idx, max_new_tokens):\n",
        "        # idx is (B, T) array of indices in the current context\n",
        "        for _ in range(max_new_tokens):\n",
        "            # crop idx to the last block_size tokens\n",
        "            idx_cond = idx[:, -block_size:] # <----------- Cropping out index, because we use positional embedding\n",
        "            # get the predictions\n",
        "            logits, loss = self(idx_cond)\n",
        "            # focus only on the last time step\n",
        "            logits = logits[:, -1, :] # becomes (B, C)\n",
        "            # apply softmax to get probabilities\n",
        "            probs = F.softmax(logits, dim=-1) # (B, C)\n",
        "            # sample from the distribution\n",
        "            idx_next = torch.multinomial(probs, num_samples=1) # (B, 1)\n",
        "            # append sampled index to the running sequence\n",
        "            idx = torch.cat((idx, idx_next), dim=1) # (B, T+1)\n",
        "        return idx\n",
        "\n",
        "model = BigramLanguageModel()\n",
        "m = model.to(device)\n",
        "# print the number of parameters in the model\n",
        "print(sum(p.numel() for p in m.parameters())/1e6, 'M parameters')\n",
        "\n",
        "# create a PyTorch optimizer\n",
        "optimizer = torch.optim.AdamW(model.parameters(), lr=learning_rate)\n",
        "\n",
        "for iter in range(max_iters):\n",
        "\n",
        "    # every once in a while evaluate the loss on train and val sets\n",
        "    if iter % eval_interval == 0 or iter == max_iters - 1:\n",
        "        losses = estimate_loss()\n",
        "        print(f\"step {iter}: train loss {losses['train']:.4f}, val loss {losses['val']:.4f}\")\n",
        "\n",
        "    # sample a batch of data\n",
        "    xb, yb = get_batch('train')\n",
        "\n",
        "    # evaluate the loss\n",
        "    logits, loss = model(xb, yb)\n",
        "    optimizer.zero_grad(set_to_none=True)\n",
        "    loss.backward()\n",
        "    optimizer.step()\n",
        "\n",
        "# generate from the model\n",
        "context = torch.zeros((1, 1), dtype=torch.long, device=device)\n",
        "print(decode(m.generate(context, max_new_tokens=500)[0].tolist()))\n",
        "#open('more.txt', 'w').write(decode(m.generate(context, max_new_tokens=10000)[0].tolist()))"
      ],
      "metadata": {
        "id": "TL1mnNKBi2Pq"
      },
      "execution_count": null,
      "outputs": []
    },
    {
      "cell_type": "markdown",
      "source": [
        "# X"
      ],
      "metadata": {
        "id": "osVa2B6ZvAw-"
      }
    },
    {
      "cell_type": "code",
      "source": [
        "import torch\n",
        "import torch.nn as nn\n",
        "from torch.nn import functional as F\n",
        "from tqdm import tqdm\n",
        "\n",
        "# hyperparameters\n",
        "batch_size = 64 # how many independent sequences will we process in parallel?\n",
        "block_size = 256 # what is the maximum context length for predictions?\n",
        "max_iters = 5000\n",
        "eval_interval = 500\n",
        "learning_rate = 3e-4\n",
        "device = 'cuda' if torch.cuda.is_available() else 'cpu'\n",
        "eval_iters = 200\n",
        "n_embd = 384\n",
        "n_head = 6\n",
        "n_layer = 6\n",
        "dropout = 0.2\n",
        "# ------------\n",
        "\n",
        "torch.manual_seed(1337)\n",
        "\n",
        "# wget https://raw.githubusercontent.com/karpathy/char-rnn/master/data/tinyshakespeare/input.txt\n",
        "with open('input.txt', 'r', encoding='utf-8') as f:\n",
        "    text = f.read()\n",
        "\n",
        "# here are all the unique characters that occur in this text\n",
        "chars = sorted(list(set(text)))\n",
        "vocab_size = len(chars)\n",
        "# create a mapping from characters to integers\n",
        "stoi = { ch:i for i,ch in enumerate(chars) }\n",
        "itos = { i:ch for i,ch in enumerate(chars) }\n",
        "encode = lambda s: [stoi[c] for c in s] # encoder: take a string, output a list of integers\n",
        "decode = lambda l: ''.join([itos[i] for i in l]) # decoder: take a list of integers, output a string\n",
        "\n",
        "# Train and test splits\n",
        "data = torch.tensor(encode(text), dtype=torch.long)\n",
        "n = int(0.9*len(data)) # first 90% will be train, rest val\n",
        "train_data = data[:n]\n",
        "val_data = data[n:]\n",
        "\n",
        "# data loading\n",
        "def get_batch(split):\n",
        "    # generate a small batch of data of inputs x and targets y\n",
        "    data = train_data if split == 'train' else val_data\n",
        "    ix = torch.randint(len(data) - block_size, (batch_size,))\n",
        "    x = torch.stack([data[i:i+block_size] for i in ix])\n",
        "    y = torch.stack([data[i+1:i+block_size+1] for i in ix])\n",
        "    x, y = x.to(device), y.to(device)\n",
        "    return x, y\n",
        "\n",
        "@torch.no_grad()\n",
        "def estimate_loss():\n",
        "    out = {}\n",
        "    model.eval()\n",
        "    for split in ['train', 'val']:\n",
        "        losses = torch.zeros(eval_iters)\n",
        "        for k in range(eval_iters):\n",
        "            X, Y = get_batch(split)\n",
        "            logits, loss = model(X, Y)\n",
        "            losses[k] = loss.item()\n",
        "        out[split] = losses.mean()\n",
        "    model.train()\n",
        "    return out\n",
        "\n",
        "class Head(nn.Module):\n",
        "    \"\"\" one head of self-attention \"\"\"\n",
        "\n",
        "    def __init__(self, head_size):\n",
        "        super().__init__()\n",
        "        self.key = nn.Linear(n_embd, head_size, bias=False)\n",
        "        self.query = nn.Linear(n_embd, head_size, bias=False)\n",
        "        self.value = nn.Linear(n_embd, head_size, bias=False)\n",
        "        self.register_buffer('tril', torch.tril(torch.ones(block_size, block_size)))\n",
        "\n",
        "        self.dropout = nn.Dropout(dropout)\n",
        "\n",
        "    def forward(self, x):\n",
        "        # input of size (batch, time-step, channels)\n",
        "        # output of size (batch, time-step, head size)\n",
        "        B,T,C = x.shape\n",
        "        k = self.key(x)   # (B,T,hs)\n",
        "        q = self.query(x) # (B,T,hs)\n",
        "        # compute attention scores (\"affinities\")\n",
        "        wei = q @ k.transpose(-2,-1) * k.shape[-1]**-0.5 # (B, T, hs) @ (B, hs, T) -> (B, T, T)\n",
        "        wei = wei.masked_fill(self.tril[:T, :T] == 0, float('-inf')) # (B, T, T)\n",
        "        wei = F.softmax(wei, dim=-1) # (B, T, T)\n",
        "        wei = self.dropout(wei)\n",
        "        # perform the weighted aggregation of the values\n",
        "        v = self.value(x) # (B,T,hs)\n",
        "        out = wei @ v # (B, T, T) @ (B, T, hs) -> (B, T, hs)\n",
        "        return out\n",
        "\n",
        "class MultiHeadAttention(nn.Module):\n",
        "    \"\"\" multiple heads of self-attention in parallel \"\"\"\n",
        "\n",
        "    def __init__(self, num_heads, head_size):\n",
        "        super().__init__()\n",
        "        self.heads = nn.ModuleList([Head(head_size) for _ in range(num_heads)])\n",
        "        self.proj = nn.Linear(head_size * num_heads, n_embd)\n",
        "        self.dropout = nn.Dropout(dropout)\n",
        "\n",
        "    def forward(self, x):\n",
        "        out = torch.cat([h(x) for h in self.heads], dim=-1)\n",
        "        out = self.dropout(self.proj(out))\n",
        "        return out\n",
        "\n",
        "class FeedFoward(nn.Module):\n",
        "    \"\"\" a simple linear layer followed by a non-linearity \"\"\"\n",
        "\n",
        "    def __init__(self, n_embd):\n",
        "        super().__init__()\n",
        "        self.net = nn.Sequential(\n",
        "            nn.Linear(n_embd, 4 * n_embd),\n",
        "            nn.ReLU(),\n",
        "            nn.Linear(4 * n_embd, n_embd),\n",
        "            nn.Dropout(dropout),\n",
        "        )\n",
        "\n",
        "    def forward(self, x):\n",
        "        return self.net(x)\n",
        "\n",
        "class Block(nn.Module):\n",
        "    \"\"\" Transformer block: communication followed by computation \"\"\"\n",
        "\n",
        "    def __init__(self, n_embd, n_head):\n",
        "        # n_embd: embedding dimension, n_head: the number of heads we'd like\n",
        "        super().__init__()\n",
        "        head_size = n_embd // n_head\n",
        "        self.sa = MultiHeadAttention(n_head, head_size)\n",
        "        self.ffwd = FeedFoward(n_embd)\n",
        "        self.ln1 = nn.LayerNorm(n_embd)\n",
        "        self.ln2 = nn.LayerNorm(n_embd)\n",
        "\n",
        "    def forward(self, x):\n",
        "        x = x + self.sa(self.ln1(x))\n",
        "        x = x + self.ffwd(self.ln2(x))\n",
        "        return x\n",
        "\n",
        "class GPTLanguageModel(nn.Module):\n",
        "\n",
        "    def __init__(self):\n",
        "        super().__init__()\n",
        "        # each token directly reads off the logits for the next token from a lookup table\n",
        "        self.token_embedding_table = nn.Embedding(vocab_size, n_embd)\n",
        "        self.position_embedding_table = nn.Embedding(block_size, n_embd)\n",
        "        self.blocks = nn.Sequential(*[Block(n_embd, n_head=n_head) for _ in range(n_layer)])\n",
        "        self.ln_f = nn.LayerNorm(n_embd) # final layer norm\n",
        "        self.lm_head = nn.Linear(n_embd, vocab_size)\n",
        "\n",
        "        # better init, not covered in the original GPT video, but important, will cover in followup video\n",
        "        self.apply(self._init_weights)\n",
        "\n",
        "    def _init_weights(self, module):\n",
        "        if isinstance(module, nn.Linear):\n",
        "            torch.nn.init.normal_(module.weight, mean=0.0, std=0.02)\n",
        "            if module.bias is not None:\n",
        "                torch.nn.init.zeros_(module.bias)\n",
        "        elif isinstance(module, nn.Embedding):\n",
        "            torch.nn.init.normal_(module.weight, mean=0.0, std=0.02)\n",
        "\n",
        "    def forward(self, idx, targets=None):\n",
        "        B, T = idx.shape\n",
        "\n",
        "        # idx and targets are both (B,T) tensor of integers\n",
        "        tok_emb = self.token_embedding_table(idx) # (B,T,C)\n",
        "        pos_emb = self.position_embedding_table(torch.arange(T, device=device)) # (T,C)\n",
        "        x = tok_emb + pos_emb # (B,T,C)\n",
        "        x = self.blocks(x) # (B,T,C)\n",
        "        x = self.ln_f(x) # (B,T,C)\n",
        "        logits = self.lm_head(x) # (B,T,vocab_size)\n",
        "\n",
        "        if targets is None:\n",
        "            loss = None\n",
        "        else:\n",
        "            B, T, C = logits.shape\n",
        "            logits = logits.view(B*T, C)\n",
        "            targets = targets.view(B*T)\n",
        "            loss = F.cross_entropy(logits, targets)\n",
        "\n",
        "        return logits, loss\n",
        "\n",
        "    def generate(self, idx, max_new_tokens):\n",
        "        # idx is (B, T) array of indices in the current context\n",
        "        for _ in range(max_new_tokens):\n",
        "            # crop idx to the last block_size tokens\n",
        "            idx_cond = idx[:, -block_size:]\n",
        "            # get the predictions\n",
        "            logits, loss = self(idx_cond)\n",
        "            # focus only on the last time step\n",
        "            logits = logits[:, -1, :] # becomes (B, C)\n",
        "            # apply softmax to get probabilities\n",
        "            probs = F.softmax(logits, dim=-1) # (B, C)\n",
        "            # sample from the distribution\n",
        "            idx_next = torch.multinomial(probs, num_samples=1) # (B, 1)\n",
        "            # append sampled index to the running sequence\n",
        "            idx = torch.cat((idx, idx_next), dim=1) # (B, T+1)\n",
        "        return idx\n",
        "\n",
        "model = GPTLanguageModel()\n",
        "m = model.to(device)\n",
        "# print the number of parameters in the model\n",
        "print(sum(p.numel() for p in m.parameters())/1e6, 'M parameters')\n",
        "\n",
        "# create a PyTorch optimizer\n",
        "optimizer = torch.optim.AdamW(model.parameters(), lr=learning_rate)\n",
        "\n",
        "model_save_path = './my_model.pth'\n",
        "\n",
        "for iter in tqdm(range(max_iters), desc=\"Training Progress\"):\n",
        "\n",
        "    # every once in a while evaluate the loss on train and val sets\n",
        "    if iter % eval_interval == 0 or iter == max_iters - 1:\n",
        "        losses = estimate_loss()\n",
        "        print(f\"step {iter}: train loss {losses['train']:.4f}, val loss {losses['val']:.4f}\")\n",
        "\n",
        "        torch.save(model.state_dict(), model_save_path)\n",
        "        print(f\"Model saved at {model_save_path}\")\n",
        "\n",
        "    # sample a batch of data\n",
        "    xb, yb = get_batch('train')\n",
        "\n",
        "    # evaluate the loss\n",
        "    logits, loss = model(xb, yb)\n",
        "    optimizer.zero_grad(set_to_none=True)\n",
        "    loss.backward()\n",
        "    optimizer.step()\n",
        "\n",
        "torch.save(model.state_dict(), model_save_path)\n",
        "print(f\"Final model saved at {model_save_path}\")"
      ],
      "metadata": {
        "colab": {
          "base_uri": "https://localhost:8080/"
        },
        "id": "k1vROJ0VvBVN",
        "outputId": "3b72a054-3e42-4403-f9a2-88948b0c57f4"
      },
      "execution_count": 9,
      "outputs": [
        {
          "output_type": "stream",
          "name": "stdout",
          "text": [
            "10.788929 M parameters\n"
          ]
        },
        {
          "output_type": "stream",
          "name": "stderr",
          "text": [
            "\rTraining Progress:   0%|          | 0/5000 [00:00<?, ?it/s]"
          ]
        },
        {
          "output_type": "stream",
          "name": "stdout",
          "text": [
            "step 0: train loss 4.2221, val loss 4.2306\n",
            "Model saved at ./my_model.pth\n"
          ]
        },
        {
          "output_type": "stream",
          "name": "stderr",
          "text": [
            "Training Progress:  10%|█         | 500/5000 [05:25<37:49,  1.98it/s]"
          ]
        },
        {
          "output_type": "stream",
          "name": "stdout",
          "text": [
            "step 500: train loss 1.7599, val loss 1.9162\n",
            "Model saved at ./my_model.pth\n"
          ]
        },
        {
          "output_type": "stream",
          "name": "stderr",
          "text": [
            "Training Progress:  20%|██        | 1000/5000 [10:50<33:42,  1.98it/s]"
          ]
        },
        {
          "output_type": "stream",
          "name": "stdout",
          "text": [
            "step 1000: train loss 1.3933, val loss 1.6023\n",
            "Model saved at ./my_model.pth\n"
          ]
        },
        {
          "output_type": "stream",
          "name": "stderr",
          "text": [
            "Training Progress:  30%|███       | 1500/5000 [16:14<29:18,  1.99it/s]"
          ]
        },
        {
          "output_type": "stream",
          "name": "stdout",
          "text": [
            "step 1500: train loss 1.2685, val loss 1.5291\n",
            "Model saved at ./my_model.pth\n"
          ]
        },
        {
          "output_type": "stream",
          "name": "stderr",
          "text": [
            "Training Progress:  40%|████      | 2000/5000 [21:36<25:04,  1.99it/s]"
          ]
        },
        {
          "output_type": "stream",
          "name": "stdout",
          "text": [
            "step 2000: train loss 1.1868, val loss 1.4955\n",
            "Model saved at ./my_model.pth\n"
          ]
        },
        {
          "output_type": "stream",
          "name": "stderr",
          "text": [
            "Training Progress:  50%|█████     | 2500/5000 [26:59<21:01,  1.98it/s]"
          ]
        },
        {
          "output_type": "stream",
          "name": "stdout",
          "text": [
            "step 2500: train loss 1.1219, val loss 1.4860\n",
            "Model saved at ./my_model.pth\n"
          ]
        },
        {
          "output_type": "stream",
          "name": "stderr",
          "text": [
            "Training Progress:  60%|██████    | 3000/5000 [32:22<16:39,  2.00it/s]"
          ]
        },
        {
          "output_type": "stream",
          "name": "stdout",
          "text": [
            "step 3000: train loss 1.0737, val loss 1.4861\n",
            "Model saved at ./my_model.pth\n"
          ]
        },
        {
          "output_type": "stream",
          "name": "stderr",
          "text": [
            "Training Progress:  70%|███████   | 3500/5000 [37:44<12:32,  1.99it/s]"
          ]
        },
        {
          "output_type": "stream",
          "name": "stdout",
          "text": [
            "step 3500: train loss 1.0215, val loss 1.5081\n",
            "Model saved at ./my_model.pth\n"
          ]
        },
        {
          "output_type": "stream",
          "name": "stderr",
          "text": [
            "Training Progress:  80%|████████  | 4000/5000 [43:06<08:19,  2.00it/s]"
          ]
        },
        {
          "output_type": "stream",
          "name": "stdout",
          "text": [
            "step 4000: train loss 0.9648, val loss 1.5082\n",
            "Model saved at ./my_model.pth\n"
          ]
        },
        {
          "output_type": "stream",
          "name": "stderr",
          "text": [
            "Training Progress:  90%|█████████ | 4500/5000 [48:27<04:08,  2.01it/s]"
          ]
        },
        {
          "output_type": "stream",
          "name": "stdout",
          "text": [
            "step 4500: train loss 0.9082, val loss 1.5378\n",
            "Model saved at ./my_model.pth\n"
          ]
        },
        {
          "output_type": "stream",
          "name": "stderr",
          "text": [
            "Training Progress: 100%|█████████▉| 4999/5000 [53:48<00:00,  2.00it/s]"
          ]
        },
        {
          "output_type": "stream",
          "name": "stdout",
          "text": [
            "step 4999: train loss 0.8546, val loss 1.5600\n",
            "Model saved at ./my_model.pth\n"
          ]
        },
        {
          "output_type": "stream",
          "name": "stderr",
          "text": [
            "Training Progress: 100%|██████████| 5000/5000 [55:01<00:00,  1.51it/s]\n"
          ]
        },
        {
          "output_type": "stream",
          "name": "stdout",
          "text": [
            "Final model saved at ./my_model.pth\n",
            "\n",
            "But with prison chariteds entremity.\n",
            "\n",
            "SLY:\n",
            "Why stay you shall hold have fled a time.\n",
            "\n",
            "STaPHEN SCAPULET:\n",
            "Then gave me no more than than it movested\n",
            "by my sweet grace than yet ever saw me\n",
            "My sweet legs in to tears me now.\n",
            "That comfortal to his edgracious swaing:\n",
            "And office my own, it is a mystery toad,\n",
            "How becaury I was enjoy or your love?\n",
            "Was ever I kingdomed by unto my love\n",
            "Imploy'd in me again?\n",
            "\n",
            "BRUTUS:\n",
            "O well'd you!\n",
            "\n",
            "All:\n",
            "About undon this time, to dissay them yoke\n",
            "Were his rebels companion and\n"
          ]
        }
      ]
    },
    {
      "cell_type": "code",
      "source": [
        "# generate from the model\n",
        "context = torch.zeros((1, 1), dtype=torch.long, device=device)\n",
        "print(decode(m.generate(context, max_new_tokens=5000)[0].tolist()))\n",
        "open('more.txt', 'w').write(decode(m.generate(context, max_new_tokens=10000)[0].tolist()))"
      ],
      "metadata": {
        "colab": {
          "base_uri": "https://localhost:8080/"
        },
        "id": "vNFCAyOiwkjA",
        "outputId": "8c22b87d-9d25-4ec6-8048-d24fcd49f160"
      },
      "execution_count": 11,
      "outputs": [
        {
          "output_type": "stream",
          "name": "stdout",
          "text": [
            "\n",
            "My purge devo, you'll make a better most very idle.\n",
            "\n",
            "CLARENCE:\n",
            "\n",
            "MONTAGUE:\n",
            "Good jod-day. Bending with this deep day,\n",
            "And am a wife and kindled eye.\n",
            "\n",
            "KING EDWARD IV:\n",
            "Bring forth, yet orders, you entire, beat,\n",
            "Against us to Cypan here forth Duke of York,\n",
            "And, Richard, I did still to London, and their ears.\n",
            "I was his sons, leave it to his mind;\n",
            "The is and aughter of the Bitter Lancas.\n",
            "\n",
            "DUKE OF YORK:\n",
            "My hair of Lancas: the daughter of a king.\n",
            "\n",
            "DUCHESS OF YORK:\n",
            "Ever doth be witness with my pride and thine.\n",
            "\n",
            "QUEEN ELIZABTH:\n",
            "Thou art no near, thy company might one a drawncical;\n",
            "That Tybalt shall slain dead Polixenes,\n",
            "Gives, until no received that touch of this daughter\n",
            "For she that can at ride? at that fhat is made?\n",
            "\n",
            "DUKE OF YORK:\n",
            "Here dead, if you are; and never breath\n",
            "To sedice in the scarde; incenside, where you have\n",
            "To seee your arms and into you to rather.\n",
            "\n",
            "DUKE OF YORK:\n",
            "Then, Bianca, if Warwick many this depart, debt.\n",
            "\n",
            "DUKE OF YORK:\n",
            "I cannot great\n",
            "Should not, unless thing abow end to slander\n",
            "Be ready starth lamb.\n",
            "\n",
            "HENRY BOLINGBROKE:\n",
            "Is a strange? it die:\n",
            "But hear our foes the sknew,\n",
            "I knows not without 't be; let them back.\n",
            "\n",
            "DUKE OF YORK:\n",
            "How let their heart warm with integary\n",
            "Which when he seals intent his attagemons,\n",
            "Would wrath grace their about the mail or their dearth?\n",
            "\n",
            "EXeONT:\n",
            "Ay me!\n",
            "\n",
            "Girl:\n",
            "O it is optality, and a innocent, as best,\n",
            "A madmack'd with the infine may friends,\n",
            "And command their tortary oble in night.\n",
            "\n",
            "ANGELO:\n",
            "If what contents dear men at once be a dead?\n",
            "If that trust that I may die, my close is mine eye\n",
            "Give more that I did this queen, if I misue here I learn\n",
            "The tread, and that You, and am pro prescred,\n",
            "The figure of devotivont that is more\n",
            "To dredement his tongue; to your soul uncle\n",
            "For brother of G orant's right bendless than steel,\n",
            "By London Direced, and the discontent:\n",
            "O, look, for I will old my sins out\n",
            "Of your neck of Herreford courtse and my fairs;\n",
            "Yet, it were a kind of royal fruits are,\n",
            "And not to make his basilish bands, Henry's blood\n",
            "That raise imprison'd it in my true good\n",
            "That is reverself to blind one in viewness.\n",
            "Gardence, my lords, ratcle, methir proud towards.\n",
            "\n",
            "DUCHESS OF YORK:\n",
            "Whom should be ripens, my son, I thought to my blood?\n",
            "\n",
            "QUEEN ELIZABETH:\n",
            "Hows, if with conclusions with Mowbray's timely and mine\n",
            "That be pillodged and surprison'd,\n",
            "Earger to be than he?\n",
            "\n",
            "DUCHESS OF YORK:\n",
            "'Twas of thy grief, and yet must be; leave me speak.\n",
            "\n",
            "DUCHESS OF YORK:\n",
            "I anone. Yes, let me enemy: by a cook, I\n",
            "have a yinged to speak a too undertand many.\n",
            "But news, this till the heart of the people\n",
            "Will promote you marriage no the Duke of York.\n",
            "\n",
            "DUKE OF YORK:\n",
            "O, then boy, even not the duke is burnthrily,\n",
            "That thy mindness silves Mercut and will way\n",
            "The frozard of day out\n",
            "What title but all feelings which have not;\n",
            "But, in proud thing, hellong and rust;\n",
            "Rowards no hosting, all to Bolind convirct night.\n",
            "Richard me then Glive We be told the next,\n",
            "And turning both marrchan tarrianable,\n",
            "Conspirish'd bang in thy hand:\n",
            "The cheek that mistrust the wantipplebeians are king,\n",
            "And let me kiss the crown cheek in the reprower;\n",
            "That if I were silent to live the earth\n",
            "What told you are sign, and we shall be so.\n",
            "\n",
            "KINGHENRY VI:\n",
            "Great Serry, ten to prince Edward's love,\n",
            "And thus the title, our king, was's presumpted moting boy.\n",
            "O God's succed evilsage! But whereby? have's he think\n",
            "Because his thousand: 'As grain where to grieve me his work,\n",
            "From whence we sprink, to oracle and follow\n",
            "Unbound the wasp and swellight that land is\n",
            "Your house should have need there.\n",
            "\n",
            "CAMILLO:\n",
            "And, this, to call him:\n",
            "If most rule occasion to hinted wigh will\n",
            "Whisper glasses, freed herself.\n",
            "\n",
            "MONTAGUE:\n",
            "Createst!\n",
            "Is that this blame?\n",
            "\n",
            "MOPSA:\n",
            "Most good Montgomery;\n",
            "I am in common many scened that love.\n",
            "\n",
            "CAMILLO:\n",
            "I dare no lady, my most gracious lords,\n",
            "Poor Clarence; Llook on, to thee say: Therefore,\n",
            "Be it executed, and art thou not to a stand,\n",
            "And full as thy looks.\n",
            "\n",
            "CAMILLO:\n",
            "Go, you have done,\n",
            "Advance. Let her.\n",
            "Well, come, this did I wrong thee,\n",
            "Wilt thou be as thought of his highness,\n",
            "That we have borned, then where the isgage\n",
            "To mantle Henry here of Lancaster,\n",
            "Tugling on happiness may here; but great it\n",
            "Till hen be thine. I'll say this coverture\n",
            "Fit to our sweet is without. Henry it is to the\n",
            "Mine opinion, the prime must walk sad; we wot\n",
            "news on to the Earl of Henry Pimpele, which shall\n",
            "present to undogr this in some ptreasion bellyves\n",
            "when melt flower; who, as occasion is judgments,\n",
            "ere then in the miline of my sorrow's tender\n",
            "More merritor to her of this. As an use, in good\n",
            "can disciplinest, to singuit her beauty in\n",
            "both of their times and tmost shapes bald my\n",
            "having, as Veronary's tops a back true\n",
            "The couldt line of a brows. Gallow a kinsman's war,\n",
            "And held him already as nights all. Come, let's have lighters.\n",
            "The rest shameless to be: many hermie one\n",
            "that hath flattered upon you! God with himme,\n",
            "comes the compass of gibeat, and it you all\n",
            "Hocted P debtires, and being the jerior.\n",
            "\n",
            "Third Servant:\n",
            "Then, the slain themself or found tro\n",
            "more\n"
          ]
        },
        {
          "output_type": "execute_result",
          "data": {
            "text/plain": [
              "10001"
            ]
          },
          "metadata": {},
          "execution_count": 11
        }
      ]
    },
    {
      "cell_type": "code",
      "source": [],
      "metadata": {
        "id": "Vg1Hljej-Zs8"
      },
      "execution_count": null,
      "outputs": []
    }
  ]
}